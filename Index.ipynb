{
 "cells": [
  {
   "cell_type": "markdown",
   "metadata": {},
   "source": [
    "# CS109 Final Project: Predicting Offensive Playcalling in the NFL\n",
    "\n",
    "\n",
    "## By Matt Goldberg, Adam Gilfix, Nathaniel Ver Steeg and Steven Rachesky\n",
    "\n",
    "\n",
    "![Image of NFL](images/nfl_shield.png)\n",
    "\n",
    "Imagine you are a Defensive Coordinator in the NFL. You'll likely find yourself in control of the defensive play-calling decisions, a difficult task especially with limited knowledge of the opponent's offensive tendencies or more specifically the exact play the offense will execute. Let's take Rob Ryan as an example, pictured below:\n",
    "\n",
    "\n",
    "Rob began his NFL career as the Defensive Coordinator of the Oakland Raiders and more recently  "
   ]
  },
  {
   "cell_type": "code",
   "execution_count": null,
   "metadata": {
    "collapsed": true
   },
   "outputs": [],
   "source": []
  }
 ],
 "metadata": {
  "kernelspec": {
   "display_name": "Python 2",
   "language": "python",
   "name": "python2"
  },
  "language_info": {
   "codemirror_mode": {
    "name": "ipython",
    "version": 2
   },
   "file_extension": ".py",
   "mimetype": "text/x-python",
   "name": "python",
   "nbconvert_exporter": "python",
   "pygments_lexer": "ipython2",
   "version": "2.7.10"
  }
 },
 "nbformat": 4,
 "nbformat_minor": 0
}
