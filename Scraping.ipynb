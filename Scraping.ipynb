{
 "cells": [
  {
   "cell_type": "code",
   "execution_count": null,
   "metadata": {
    "collapsed": false
   },
   "outputs": [],
   "source": [
    "import multiprocessing as mp\n",
    "import sys\n",
    "\n",
    "import pandas as pd\n",
    "\n",
    "import pfr"
   ]
  },
  {
   "cell_type": "markdown",
   "metadata": {},
   "source": [
    "Below is the function processBS, which takes in a boxscore ID and returns a DataFrame of the raw (i.e., pre-feature engineering) play-by-play data provided by pro-football-reference.com (see, for example, [this page](http://www.pro-football-reference.com/boxscores/201010030pit.htm#pbp) for an example of play-by-play data). This is done using the ```pfr``` package for scraping data from [pro-football-reference.com](pro-football-reference.com). This package was written by our very own Matt Goldberg, and its code can be found [on his GitHub](github.com/mdgoldberg/pfr). Specifically, see the code in [pfr/boxscores.py](https://github.com/mdgoldberg/pfr/blob/master/pfr/boxscores.py) (and relevant code in [pfr/utils.py](https://github.com/mdgoldberg/pfr/blob/master/pfr/utils.py)) to see more about how this scraping is done."
   ]
  },
  {
   "cell_type": "code",
   "execution_count": null,
   "metadata": {
    "collapsed": true
   },
   "outputs": [],
   "source": [
    "def processBS(bs):\n",
    "    bs = pfr.boxscores.BoxScore(bs)\n",
    "    addon = bs.pbp(keepErrors=True)\n",
    "    return addon"
   ]
  },
  {
   "cell_type": "markdown",
   "metadata": {},
   "source": [
    "The following function, getDataForYear, takes in a year as an argument and returns a DataFrame which concatenates the play-by-play DataFrames from every one of that season's games. This is done using python's [multiprocessing](https://docs.python.org/2/library/multiprocessing.html) module; using this, we can take advantage of the parallelizable nature of the task at hand."
   ]
  },
  {
   "cell_type": "code",
   "execution_count": null,
   "metadata": {
    "collapsed": true
   },
   "outputs": [],
   "source": [
    "def getDataForYear(yr):\n",
    "    bsIDs = set()\n",
    "    for tmID in pfr.teams.listTeams():\n",
    "        tm = pfr.teams.Team(tmID)\n",
    "        bss = tm.boxscores(yr)\n",
    "        bsIDs.update(bss)\n",
    "\n",
    "    print len(bsIDs)\n",
    "    pool = mp.Pool(mp.cpu_count())\n",
    "    dfs = pool.map_async(processBS, bsIDs).get(sys.maxint)\n",
    "\n",
    "    pbp = pd.concat(dfs)\n",
    "    pbp = pbp.reset_index(drop=True)\n",
    "\n",
    "    pbp.to_csv('{}plays.csv'.format(yr), index_share=False, index=False)"
   ]
  },
  {
   "cell_type": "code",
   "execution_count": null,
   "metadata": {
    "collapsed": false
   },
   "outputs": [],
   "source": [
    "for yr in xrange(2002, 2015):\n",
    "    print yr\n",
    "    getDataForYear(yr)"
   ]
  }
 ],
 "metadata": {
  "kernelspec": {
   "display_name": "Python 2",
   "language": "python",
   "name": "python2"
  },
  "language_info": {
   "codemirror_mode": {
    "name": "ipython",
    "version": 2
   },
   "file_extension": ".py",
   "mimetype": "text/x-python",
   "name": "python",
   "nbconvert_exporter": "python",
   "pygments_lexer": "ipython2",
   "version": "2.7.10"
  }
 },
 "nbformat": 4,
 "nbformat_minor": 0
}
