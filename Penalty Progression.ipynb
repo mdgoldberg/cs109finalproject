{
 "cells": [
  {
   "cell_type": "code",
   "execution_count": 1,
   "metadata": {
    "collapsed": true
   },
   "outputs": [],
   "source": [
    "#Imports\n",
    "%matplotlib inline\n",
    "import numpy as np\n",
    "import scipy as sp\n",
    "import matplotlib as mpl\n",
    "import matplotlib.cm as cm\n",
    "import matplotlib.pyplot as plt\n",
    "import pandas as pd\n",
    "pd.set_option('display.width', 500)\n",
    "pd.set_option('display.max_columns', 100)\n",
    "pd.set_option('display.notebook_repr_html', True)\n",
    "import seaborn as sns\n",
    "sns.set_style(\"whitegrid\")\n",
    "sns.set_context(\"poster\")"
   ]
  },
  {
   "cell_type": "code",
   "execution_count": 2,
   "metadata": {
    "collapsed": false
   },
   "outputs": [
    {
     "name": "stderr",
     "output_type": "stream",
     "text": [
      "/Users/StevenRachesky/anaconda/lib/python2.7/site-packages/pandas/io/parsers.py:1170: DtypeWarning: Columns (10,60,71,73) have mixed types. Specify dtype option on import or set low_memory=False.\n",
      "  data = self._reader.read(nrows)\n"
     ]
    },
    {
     "data": {
      "text/plain": [
       "array([1, 2, 3, 4, 5])"
      ]
     },
     "execution_count": 2,
     "metadata": {},
     "output_type": "execute_result"
    }
   ],
   "source": [
    "data10 =  pd.read_csv('2010plays.csv')\n",
    "data10.quarter.unique()"
   ]
  },
  {
   "cell_type": "code",
   "execution_count": 3,
   "metadata": {
    "collapsed": false,
    "scrolled": false
   },
   "outputs": [
    {
     "name": "stderr",
     "output_type": "stream",
     "text": [
      "/Users/StevenRachesky/anaconda/lib/python2.7/site-packages/pandas/io/parsers.py:1170: DtypeWarning: Columns (13,25,58) have mixed types. Specify dtype option on import or set low_memory=False.\n",
      "  data = self._reader.read(nrows)\n",
      "/Users/StevenRachesky/anaconda/lib/python2.7/site-packages/ipykernel/__main__.py:5: SettingWithCopyWarning: \n",
      "A value is trying to be set on a copy of a slice from a DataFrame.\n",
      "Try using .loc[row_indexer,col_indexer] = value instead\n",
      "\n",
      "See the the caveats in the documentation: http://pandas.pydata.org/pandas-docs/stable/indexing.html#indexing-view-versus-copy\n",
      "/Users/StevenRachesky/anaconda/lib/python2.7/site-packages/ipykernel/__main__.py:11: SettingWithCopyWarning: \n",
      "A value is trying to be set on a copy of a slice from a DataFrame.\n",
      "Try using .loc[row_indexer,col_indexer] = value instead\n",
      "\n",
      "See the the caveats in the documentation: http://pandas.pydata.org/pandas-docs/stable/indexing.html#indexing-view-versus-copy\n"
     ]
    },
    {
     "data": {
      "text/html": [
       "<div>\n",
       "<table border=\"1\" class=\"dataframe\">\n",
       "  <thead>\n",
       "    <tr style=\"text-align: right;\">\n",
       "      <th></th>\n",
       "      <th>penalty</th>\n",
       "      <th>qtr_time_remain</th>\n",
       "      <th>quarter</th>\n",
       "      <th>isPenalty</th>\n",
       "      <th>quarters</th>\n",
       "      <th>time_elapsed</th>\n",
       "    </tr>\n",
       "  </thead>\n",
       "  <tbody>\n",
       "    <tr>\n",
       "      <th>4</th>\n",
       "      <td>Offensive Holding</td>\n",
       "      <td>807</td>\n",
       "      <td>1.0</td>\n",
       "      <td>True</td>\n",
       "      <td>1</td>\n",
       "      <td>93</td>\n",
       "    </tr>\n",
       "    <tr>\n",
       "      <th>6</th>\n",
       "      <td>False Start</td>\n",
       "      <td>746</td>\n",
       "      <td>1.0</td>\n",
       "      <td>True</td>\n",
       "      <td>1</td>\n",
       "      <td>154</td>\n",
       "    </tr>\n",
       "    <tr>\n",
       "      <th>40</th>\n",
       "      <td>Defensive Pass Interference</td>\n",
       "      <td>740</td>\n",
       "      <td>2.0</td>\n",
       "      <td>True</td>\n",
       "      <td>2</td>\n",
       "      <td>1060</td>\n",
       "    </tr>\n",
       "    <tr>\n",
       "      <th>41</th>\n",
       "      <td>Encroachment</td>\n",
       "      <td>732</td>\n",
       "      <td>2.0</td>\n",
       "      <td>True</td>\n",
       "      <td>2</td>\n",
       "      <td>1068</td>\n",
       "    </tr>\n",
       "    <tr>\n",
       "      <th>56</th>\n",
       "      <td>Unnecessary Roughness</td>\n",
       "      <td>406</td>\n",
       "      <td>2.0</td>\n",
       "      <td>True</td>\n",
       "      <td>2</td>\n",
       "      <td>1394</td>\n",
       "    </tr>\n",
       "  </tbody>\n",
       "</table>\n",
       "</div>"
      ],
      "text/plain": [
       "                        penalty  qtr_time_remain quarter isPenalty  quarters  time_elapsed\n",
       "4             Offensive Holding              807     1.0      True         1            93\n",
       "6                   False Start              746     1.0      True         1           154\n",
       "40  Defensive Pass Interference              740     2.0      True         2          1060\n",
       "41                 Encroachment              732     2.0      True         2          1068\n",
       "56        Unnecessary Roughness              406     2.0      True         2          1394"
      ]
     },
     "execution_count": 3,
     "metadata": {},
     "output_type": "execute_result"
    }
   ],
   "source": [
    "#Clean data table for penalty graph\n",
    "\n",
    "data11 =  pd.read_csv('2013plays.csv')\n",
    "data = data11[[\"penalty\", \"qtr_time_remain\", \"quarter\"]]\n",
    "data[\"isPenalty\"] = data11.penalty.notnull().values\n",
    "quart = []\n",
    "for i in range(len(data[[\"quarter\"]].values)):\n",
    "    val = data[[\"quarter\"]].values[i][0]\n",
    "    val = str(val)\n",
    "    quart.append(val.replace(\".0\", \"\"))\n",
    "data[\"quarters\"] = quart\n",
    "data = data[data.quarters != \"OT\"]\n",
    "data[\"quarters\"] = data[\"quarters\"].astype(int)\n",
    "data = data.dropna()\n",
    "def get_sec(s):\n",
    "    hold = []\n",
    "    for i in range(len(s)):\n",
    "        entry = str(s.values[i][0])\n",
    "        l = entry.split(':')\n",
    "        result = int(l[0]) * 60 + int(l[1])\n",
    "        hold.append(result)\n",
    "    ret = hold\n",
    "    return ret\n",
    "data[\"qtr_time_remain\"] = get_sec(data[[\"qtr_time_remain\"]])\n",
    "data[\"time_elapsed\"] = data[\"quarters\"]*15.0*60.0 - data[\"qtr_time_remain\"]\n",
    "data.head()\n",
    "\n"
   ]
  },
  {
   "cell_type": "code",
   "execution_count": 4,
   "metadata": {
    "collapsed": false
   },
   "outputs": [],
   "source": [
    "# Functions for penalty plot and clean\n",
    "def get_sec(dfseries):\n",
    "    hold = []\n",
    "    for i in range(len(dfseries)):\n",
    "        entry = str(dfseries.values[i][0])\n",
    "        l = entry.split(':')\n",
    "        result = int(l[0]) * 60 + int(l[1])\n",
    "        hold.append(result)\n",
    "    ret = hold\n",
    "    return ret\n",
    "\n",
    "def clean_penalty(filename):\n",
    "    filename = str(filename)\n",
    "    data_raw =  pd.read_csv(filename) \n",
    "    data = data_raw[[\"penalty\", \"qtr_time_remain\", \"quarter\"]]\n",
    "    data[\"isPenalty\"] = data_raw.penalty.notnull().values\n",
    "    quart = []\n",
    "    for i in range(len(data[[\"quarter\"]].values)):\n",
    "        val = data[[\"quarter\"]].values[i][0]\n",
    "        val = str(val)\n",
    "        quart.append(val.replace(\".0\", \"\"))\n",
    "    data[\"quarters\"] = quart\n",
    "    data = data[data.quarters != \"OT\"]\n",
    "    data[\"quarters\"] = data[\"quarters\"].astype(int)\n",
    "    data = data.dropna()\n",
    "    data[\"qtr_time_remain\"] = get_sec(data[[\"qtr_time_remain\"]])\n",
    "    data[\"time_elapsed\"] = data[\"quarters\"]*15.0*60.0 - data[\"qtr_time_remain\"]\n",
    "    return data\n",
    "\n",
    "def plot_penalty(data):\n",
    "    ax = plt.subplot(111)\n",
    "    ax.hist(data[\"time_elapsed\"].values, bins=20, color=\"c\")\n",
    "    ax.set_title(\"Penalty Progression\")\n",
    "    ax.set_xlabel(\"Time elapsed (seconds)\")\n",
    "    ax.set_ylabel(\"Frequency\")\n",
    "    ax.set_xlim(0,3600)\n",
    "    ax.axvline(15*60, color=\"b\", label = \"quarter end\", ls = '--')\n",
    "    ax.axvline(30*60, color=\"b\", ls = '--')\n",
    "    ax.axvline(45*60, color=\"b\", ls = '--')\n",
    "    ax.legend()\n",
    "    ax.grid(False)\n",
    "    sns.despine()\n",
    "    return ax"
   ]
  },
  {
   "cell_type": "code",
   "execution_count": null,
   "metadata": {
    "collapsed": false
   },
   "outputs": [],
   "source": []
  },
  {
   "cell_type": "code",
   "execution_count": 5,
   "metadata": {
    "collapsed": false,
    "scrolled": false
   },
   "outputs": [
    {
     "data": {
      "image/png": "[encoded data removed]",
      "text/plain": [
       "<matplotlib.figure.Figure at 0x10e9a9350>"
      ]
     },
     "metadata": {},
     "output_type": "display_data"
    }
   ],
   "source": [
    "#Plot of penalty graph\n",
    "plt.hist(data[\"time_elapsed\"].values, bins=20, color=\"c\")\n",
    "plt.title(\"Penalty Progression\")\n",
    "plt.xlabel(\"Time elapsed (seconds)\")\n",
    "plt.ylabel(\"Frequency\")\n",
    "plt.xlim(0,3600)\n",
    "plt.axvline(15*60, color=\"b\", label = \"quarter end\", ls = '--')\n",
    "plt.axvline(30*60, color=\"b\", ls = '--')\n",
    "plt.axvline(45*60, color=\"b\", ls = '--')\n",
    "plt.legend()\n",
    "plt.grid(False)\n",
    "sns.despine()"
   ]
  },
  {
   "cell_type": "code",
   "execution_count": 26,
   "metadata": {
    "collapsed": false
   },
   "outputs": [
    {
     "name": "stderr",
     "output_type": "stream",
     "text": [
      "/Users/StevenRachesky/anaconda/lib/python2.7/site-packages/pandas/io/parsers.py:1170: DtypeWarning: Columns (10,71,73) have mixed types. Specify dtype option on import or set low_memory=False.\n",
      "  data = self._reader.read(nrows)\n",
      "/Users/StevenRachesky/anaconda/lib/python2.7/site-packages/ipykernel/__main__.py:16: SettingWithCopyWarning: \n",
      "A value is trying to be set on a copy of a slice from a DataFrame.\n",
      "Try using .loc[row_indexer,col_indexer] = value instead\n",
      "\n",
      "See the the caveats in the documentation: http://pandas.pydata.org/pandas-docs/stable/indexing.html#indexing-view-versus-copy\n",
      "/Users/StevenRachesky/anaconda/lib/python2.7/site-packages/ipykernel/__main__.py:22: SettingWithCopyWarning: \n",
      "A value is trying to be set on a copy of a slice from a DataFrame.\n",
      "Try using .loc[row_indexer,col_indexer] = value instead\n",
      "\n",
      "See the the caveats in the documentation: http://pandas.pydata.org/pandas-docs/stable/indexing.html#indexing-view-versus-copy\n"
     ]
    },
    {
     "data": {
      "text/plain": [
       "<matplotlib.axes._subplots.AxesSubplot at 0x1141992d0>"
      ]
     },
     "execution_count": 26,
     "metadata": {},
     "output_type": "execute_result"
    },
    {
     "data": {
      "image/png": "[encoded data removed]",
      "text/plain": [
       "<matplotlib.figure.Figure at 0x113fc9190>"
      ]
     },
     "metadata": {},
     "output_type": "display_data"
    }
   ],
   "source": [
    "data_test = clean_penalty(\"2011plays.csv\")\n",
    "plot_penalty(data_test)"
   ]
  },
  {
   "cell_type": "code",
   "execution_count": 7,
   "metadata": {
    "collapsed": false,
    "scrolled": true
   },
   "outputs": [
    {
     "data": {
      "text/html": [
       "<div>\n",
       "<table border=\"1\" class=\"dataframe\">\n",
       "  <thead>\n",
       "    <tr style=\"text-align: right;\">\n",
       "      <th></th>\n",
       "      <th>blocked</th>\n",
       "      <th>bsID</th>\n",
       "      <th>challengeUpheld</th>\n",
       "      <th>challenged</th>\n",
       "      <th>challenger</th>\n",
       "      <th>detail</th>\n",
       "      <th>down</th>\n",
       "      <th>exp_pts_after</th>\n",
       "      <th>exp_pts_before</th>\n",
       "      <th>fairCatch</th>\n",
       "      <th>fairCatcher</th>\n",
       "      <th>fgBlocker</th>\n",
       "      <th>fgDist</th>\n",
       "      <th>fgGood</th>\n",
       "      <th>fgKicker</th>\n",
       "      <th>forcer</th>\n",
       "      <th>fumbRecFieldside</th>\n",
       "      <th>fumbRecYdLine</th>\n",
       "      <th>fumbRetYds</th>\n",
       "      <th>fumbler</th>\n",
       "      <th>home_wp</th>\n",
       "      <th>intRetYds</th>\n",
       "      <th>intYdLine</th>\n",
       "      <th>interceptor</th>\n",
       "      <th>isComplete</th>\n",
       "      <th>isFieldGoal</th>\n",
       "      <th>isKickoff</th>\n",
       "      <th>isKneel</th>\n",
       "      <th>isPass</th>\n",
       "      <th>isPresapPenalty</th>\n",
       "      <th>isPunt</th>\n",
       "      <th>isRun</th>\n",
       "      <th>isSpike</th>\n",
       "      <th>isTD</th>\n",
       "      <th>isTimeout</th>\n",
       "      <th>isTwoPoint</th>\n",
       "      <th>isXP</th>\n",
       "      <th>kicker</th>\n",
       "      <th>kneelQB</th>\n",
       "      <th>kneelYds</th>\n",
       "      <th>koKicker</th>\n",
       "      <th>koRetYds</th>\n",
       "      <th>koReturner</th>\n",
       "      <th>koYds</th>\n",
       "      <th>lateral</th>\n",
       "      <th>location</th>\n",
       "      <th>muffRecoverer</th>\n",
       "      <th>muffedBy</th>\n",
       "      <th>muffedCatch</th>\n",
       "      <th>oob</th>\n",
       "      <th>passLoc</th>\n",
       "      <th>passer</th>\n",
       "      <th>pbp_score_aw</th>\n",
       "      <th>pbp_score_hm</th>\n",
       "      <th>penDeclined</th>\n",
       "      <th>penOn</th>\n",
       "      <th>penYds</th>\n",
       "      <th>penalty</th>\n",
       "      <th>puntBlockRecoverer</th>\n",
       "      <th>puntBlockRetYds</th>\n",
       "      <th>puntBlocker</th>\n",
       "      <th>puntRetYds</th>\n",
       "      <th>puntReturner</th>\n",
       "      <th>puntYds</th>\n",
       "      <th>punter</th>\n",
       "      <th>qtr_time_remain</th>\n",
       "      <th>quarter</th>\n",
       "      <th>rawMuffRet</th>\n",
       "      <th>recoverer</th>\n",
       "      <th>rushDir</th>\n",
       "      <th>rusher</th>\n",
       "      <th>sackYds</th>\n",
       "      <th>sacker1</th>\n",
       "      <th>sacker2</th>\n",
       "      <th>spikeQB</th>\n",
       "      <th>tackler1</th>\n",
       "      <th>tackler2</th>\n",
       "      <th>target</th>\n",
       "      <th>timeoutNum</th>\n",
       "      <th>timeoutTeam</th>\n",
       "      <th>touchback</th>\n",
       "      <th>twoPointSuccess</th>\n",
       "      <th>xpGood</th>\n",
       "      <th>yds</th>\n",
       "      <th>yds_to_go</th>\n",
       "    </tr>\n",
       "  </thead>\n",
       "  <tbody>\n",
       "    <tr>\n",
       "      <th>0</th>\n",
       "      <td>False</td>\n",
       "      <td>201309080ram</td>\n",
       "      <td>False</td>\n",
       "      <td>False</td>\n",
       "      <td>NaN</td>\n",
       "      <td>feelyjay01 kicks off 62 yards, returned by Cun...</td>\n",
       "      <td>NaN</td>\n",
       "      <td>-0.54</td>\n",
       "      <td>0.00</td>\n",
       "      <td>False</td>\n",
       "      <td>NaN</td>\n",
       "      <td>False</td>\n",
       "      <td>NaN</td>\n",
       "      <td>False</td>\n",
       "      <td>NaN</td>\n",
       "      <td>NaN</td>\n",
       "      <td>NaN</td>\n",
       "      <td>NaN</td>\n",
       "      <td>NaN</td>\n",
       "      <td>NaN</td>\n",
       "      <td>61.8</td>\n",
       "      <td>NaN</td>\n",
       "      <td>NaN</td>\n",
       "      <td>NaN</td>\n",
       "      <td>False</td>\n",
       "      <td>False</td>\n",
       "      <td>True</td>\n",
       "      <td>NaN</td>\n",
       "      <td>False</td>\n",
       "      <td>False</td>\n",
       "      <td>False</td>\n",
       "      <td>False</td>\n",
       "      <td>NaN</td>\n",
       "      <td>False</td>\n",
       "      <td>False</td>\n",
       "      <td>False</td>\n",
       "      <td>False</td>\n",
       "      <td>NaN</td>\n",
       "      <td>NaN</td>\n",
       "      <td>NaN</td>\n",
       "      <td>feelyjay01</td>\n",
       "      <td>21</td>\n",
       "      <td>CunnBe01</td>\n",
       "      <td>62</td>\n",
       "      <td>False</td>\n",
       "      <td>CRD 35</td>\n",
       "      <td>False</td>\n",
       "      <td>False</td>\n",
       "      <td>False</td>\n",
       "      <td>False</td>\n",
       "      <td>NaN</td>\n",
       "      <td>NaN</td>\n",
       "      <td>0</td>\n",
       "      <td>0</td>\n",
       "      <td>False</td>\n",
       "      <td>NaN</td>\n",
       "      <td>0</td>\n",
       "      <td>NaN</td>\n",
       "      <td>False</td>\n",
       "      <td>0</td>\n",
       "      <td>False</td>\n",
       "      <td>0</td>\n",
       "      <td>NaN</td>\n",
       "      <td>NaN</td>\n",
       "      <td>NaN</td>\n",
       "      <td>15:00</td>\n",
       "      <td>1.0</td>\n",
       "      <td>False</td>\n",
       "      <td>NaN</td>\n",
       "      <td>NaN</td>\n",
       "      <td>NaN</td>\n",
       "      <td>False</td>\n",
       "      <td>NaN</td>\n",
       "      <td>False</td>\n",
       "      <td>NaN</td>\n",
       "      <td>ArenJa99</td>\n",
       "      <td>NaN</td>\n",
       "      <td>NaN</td>\n",
       "      <td>NaN</td>\n",
       "      <td>NaN</td>\n",
       "      <td>False</td>\n",
       "      <td>False</td>\n",
       "      <td>False</td>\n",
       "      <td>NaN</td>\n",
       "      <td>NaN</td>\n",
       "    </tr>\n",
       "    <tr>\n",
       "      <th>1</th>\n",
       "      <td>False</td>\n",
       "      <td>201309080ram</td>\n",
       "      <td>False</td>\n",
       "      <td>False</td>\n",
       "      <td>NaN</td>\n",
       "      <td>BradSa00 pass complete short right to KendLa00...</td>\n",
       "      <td>1</td>\n",
       "      <td>1.20</td>\n",
       "      <td>0.54</td>\n",
       "      <td>False</td>\n",
       "      <td>NaN</td>\n",
       "      <td>False</td>\n",
       "      <td>NaN</td>\n",
       "      <td>False</td>\n",
       "      <td>NaN</td>\n",
       "      <td>NaN</td>\n",
       "      <td>NaN</td>\n",
       "      <td>0</td>\n",
       "      <td>0.0</td>\n",
       "      <td>NaN</td>\n",
       "      <td>63.6</td>\n",
       "      <td>NaN</td>\n",
       "      <td>NaN</td>\n",
       "      <td>NaN</td>\n",
       "      <td>True</td>\n",
       "      <td>False</td>\n",
       "      <td>False</td>\n",
       "      <td>NaN</td>\n",
       "      <td>True</td>\n",
       "      <td>False</td>\n",
       "      <td>False</td>\n",
       "      <td>False</td>\n",
       "      <td>NaN</td>\n",
       "      <td>False</td>\n",
       "      <td>False</td>\n",
       "      <td>False</td>\n",
       "      <td>False</td>\n",
       "      <td>NaN</td>\n",
       "      <td>NaN</td>\n",
       "      <td>NaN</td>\n",
       "      <td>NaN</td>\n",
       "      <td>NaN</td>\n",
       "      <td>NaN</td>\n",
       "      <td>NaN</td>\n",
       "      <td>False</td>\n",
       "      <td>RAM 24</td>\n",
       "      <td>False</td>\n",
       "      <td>False</td>\n",
       "      <td>False</td>\n",
       "      <td>False</td>\n",
       "      <td>SR</td>\n",
       "      <td>BradSa00</td>\n",
       "      <td>0</td>\n",
       "      <td>0</td>\n",
       "      <td>False</td>\n",
       "      <td>NaN</td>\n",
       "      <td>0</td>\n",
       "      <td>NaN</td>\n",
       "      <td>False</td>\n",
       "      <td>0</td>\n",
       "      <td>False</td>\n",
       "      <td>0</td>\n",
       "      <td>NaN</td>\n",
       "      <td>NaN</td>\n",
       "      <td>NaN</td>\n",
       "      <td>14:53</td>\n",
       "      <td>1.0</td>\n",
       "      <td>False</td>\n",
       "      <td>NaN</td>\n",
       "      <td>NaN</td>\n",
       "      <td>NaN</td>\n",
       "      <td>False</td>\n",
       "      <td>NaN</td>\n",
       "      <td>False</td>\n",
       "      <td>NaN</td>\n",
       "      <td>BrinJa99</td>\n",
       "      <td>NaN</td>\n",
       "      <td>KendLa00</td>\n",
       "      <td>NaN</td>\n",
       "      <td>NaN</td>\n",
       "      <td>False</td>\n",
       "      <td>False</td>\n",
       "      <td>False</td>\n",
       "      <td>10</td>\n",
       "      <td>10</td>\n",
       "    </tr>\n",
       "  </tbody>\n",
       "</table>\n",
       "</div>"
      ],
      "text/plain": [
       "  blocked          bsID challengeUpheld challenged challenger                                             detail  down  exp_pts_after  exp_pts_before fairCatch fairCatcher fgBlocker  fgDist fgGood fgKicker forcer fumbRecFieldside fumbRecYdLine fumbRetYds fumbler  home_wp intRetYds intYdLine interceptor isComplete isFieldGoal isKickoff isKneel isPass isPresapPenalty isPunt  isRun isSpike   isTD isTimeout isTwoPoint   isXP kicker kneelQB kneelYds    koKicker  koRetYds koReturner  koYds lateral  \\\n",
       "0   False  201309080ram           False      False        NaN  feelyjay01 kicks off 62 yards, returned by Cun...   NaN          -0.54            0.00     False         NaN     False     NaN  False      NaN    NaN              NaN           NaN        NaN     NaN     61.8       NaN       NaN         NaN      False       False      True     NaN  False           False  False  False     NaN  False     False      False  False    NaN     NaN      NaN  feelyjay01        21   CunnBe01     62   False   \n",
       "1   False  201309080ram           False      False        NaN  BradSa00 pass complete short right to KendLa00...     1           1.20            0.54     False         NaN     False     NaN  False      NaN    NaN              NaN             0        0.0     NaN     63.6       NaN       NaN         NaN       True       False     False     NaN   True           False  False  False     NaN  False     False      False  False    NaN     NaN      NaN         NaN       NaN        NaN    NaN   False   \n",
       "\n",
       "  location muffRecoverer muffedBy muffedCatch    oob passLoc    passer  pbp_score_aw  pbp_score_hm penDeclined penOn  penYds penalty puntBlockRecoverer  puntBlockRetYds puntBlocker  puntRetYds puntReturner  puntYds punter qtr_time_remain quarter rawMuffRet recoverer rushDir rusher sackYds sacker1 sacker2 spikeQB  tackler1 tackler2    target  timeoutNum timeoutTeam touchback twoPointSuccess xpGood  yds  yds_to_go  \n",
       "0   CRD 35         False    False       False  False     NaN       NaN             0             0       False   NaN       0     NaN              False                0       False           0          NaN      NaN    NaN           15:00     1.0      False       NaN     NaN    NaN   False     NaN   False     NaN  ArenJa99      NaN       NaN         NaN         NaN     False           False  False  NaN        NaN  \n",
       "1   RAM 24         False    False       False  False      SR  BradSa00             0             0       False   NaN       0     NaN              False                0       False           0          NaN      NaN    NaN           14:53     1.0      False       NaN     NaN    NaN   False     NaN   False     NaN  BrinJa99      NaN  KendLa00         NaN         NaN     False           False  False   10         10  "
      ]
     },
     "execution_count": 7,
     "metadata": {},
     "output_type": "execute_result"
    }
   ],
   "source": [
    "data11.head(2)"
   ]
  },
  {
   "cell_type": "code",
   "execution_count": 8,
   "metadata": {
    "collapsed": false
   },
   "outputs": [
    {
     "data": {
      "text/plain": [
       "Index([u'blocked', u'bsID', u'challengeUpheld', u'challenged', u'challenger', u'detail', u'down', u'exp_pts_after', u'exp_pts_before', u'fairCatch', u'fairCatcher', u'fgBlocker', u'fgDist', u'fgGood', u'fgKicker', u'forcer', u'fumbRecFieldside', u'fumbRecYdLine', u'fumbRetYds', u'fumbler', u'home_wp', u'intRetYds', u'intYdLine', u'interceptor', u'isComplete', u'isFieldGoal', u'isKickoff', u'isKneel', u'isPass', u'isPresapPenalty', u'isPunt', u'isRun', u'isSpike', u'isTD', u'isTimeout',\n",
       "       u'isTwoPoint', u'isXP', u'kicker', u'kneelQB', u'kneelYds', u'koKicker', u'koRetYds', u'koReturner', u'koYds', u'lateral', u'location', u'muffRecoverer', u'muffedBy', u'muffedCatch', u'oob', u'passLoc', u'passer', u'pbp_score_aw', u'pbp_score_hm', u'penDeclined', u'penOn', u'penYds', u'penalty', u'puntBlockRecoverer', u'puntBlockRetYds', u'puntBlocker', u'puntRetYds', u'puntReturner', u'puntYds', u'punter', u'qtr_time_remain', u'quarter', u'rawMuffRet', u'recoverer', u'rushDir',\n",
       "       u'rusher', u'sackYds', u'sacker1', u'sacker2', u'spikeQB', u'tackler1', u'tackler2', u'target', u'timeoutNum', u'timeoutTeam', u'touchback', u'twoPointSuccess', u'xpGood', u'yds', u'yds_to_go'],\n",
       "      dtype='object')"
      ]
     },
     "execution_count": 8,
     "metadata": {},
     "output_type": "execute_result"
    }
   ],
   "source": [
    "data11.columns"
   ]
  },
  {
   "cell_type": "code",
   "execution_count": 9,
   "metadata": {
    "collapsed": false
   },
   "outputs": [],
   "source": [
    "#Function for pass clean\n",
    "def clean_pass(data11):\n",
    "    data2 = data11[[\"isPass\", \"qtr_time_remain\", \"quarter\"]]\n",
    "    quart = []\n",
    "    for i in range(len(data2[[\"quarter\"]].values)):\n",
    "        val = data2[[\"quarter\"]].values[i][0]\n",
    "        val = str(val)\n",
    "        quart.append(val.replace(\".0\", \"\"))\n",
    "    data2[\"quarters\"] = quart\n",
    "    data2 = data2[data2.quarters != \"OT\"]\n",
    "    data2[\"quarters\"] = data2[\"quarters\"].astype(int)\n",
    "    data2 = data2.dropna()\n",
    "    data2 = data2[data2[\"isPass\"] == True]\n",
    "    data2[\"qtr_time_remain\"] = get_sec(data2[[\"qtr_time_remain\"]])\n",
    "    data2[\"time_elapsed\"] = data2[\"quarters\"]*15.0*60.0 - data2[\"qtr_time_remain\"]\n",
    "    return data2\n",
    "\n",
    "def plot_pass(data):\n",
    "    ax = plt.subplot(111)\n",
    "    ax.hist(data[\"time_elapsed\"].values, bins=20, color=\"g\")\n",
    "    ax.set_title(\"Pass Progression\")\n",
    "    ax.set_xlabel(\"Time elapsed (seconds)\")\n",
    "    ax.set_ylabel(\"Frequency\")\n",
    "    ax.set_xlim(0,3600)\n",
    "    ax.axvline(15*60, color=\"b\", label = \"quarter end\", ls = '--')\n",
    "    ax.axvline(30*60, color=\"b\", ls = '--')\n",
    "    ax.axvline(45*60, color=\"b\", ls = '--')\n",
    "    ax.legend()\n",
    "    ax.grid(False)\n",
    "    sns.despine()\n",
    "    return ax"
   ]
  },
  {
   "cell_type": "code",
   "execution_count": 10,
   "metadata": {
    "collapsed": false,
    "scrolled": false
   },
   "outputs": [
    {
     "name": "stderr",
     "output_type": "stream",
     "text": [
      "/Users/StevenRachesky/anaconda/lib/python2.7/site-packages/ipykernel/__main__.py:9: SettingWithCopyWarning: \n",
      "A value is trying to be set on a copy of a slice from a DataFrame.\n",
      "Try using .loc[row_indexer,col_indexer] = value instead\n",
      "\n",
      "See the the caveats in the documentation: http://pandas.pydata.org/pandas-docs/stable/indexing.html#indexing-view-versus-copy\n"
     ]
    },
    {
     "data": {
      "text/plain": [
       "<matplotlib.axes._subplots.AxesSubplot at 0x10e1c3990>"
      ]
     },
     "execution_count": 10,
     "metadata": {},
     "output_type": "execute_result"
    },
    {
     "data": {
      "image/png": "[encoded data removed]",
      "text/plain": [
       "<matplotlib.figure.Figure at 0x107ad4990>"
      ]
     },
     "metadata": {},
     "output_type": "display_data"
    }
   ],
   "source": [
    "passdf = clean_pass(data11)\n",
    "plot_pass(passdf)"
   ]
  },
  {
   "cell_type": "code",
   "execution_count": 11,
   "metadata": {
    "collapsed": true
   },
   "outputs": [],
   "source": [
    "def clean_run(data11):\n",
    "    data2 = data11[[\"isRun\", \"qtr_time_remain\", \"quarter\"]]\n",
    "    quart = []\n",
    "    for i in range(len(data2[[\"quarter\"]].values)):\n",
    "        val = data2[[\"quarter\"]].values[i][0]\n",
    "        val = str(val)\n",
    "        quart.append(val.replace(\".0\", \"\"))\n",
    "    data2[\"quarters\"] = quart\n",
    "    data2 = data2[data2.quarters != \"OT\"]\n",
    "    data2[\"quarters\"] = data2[\"quarters\"].astype(int)\n",
    "    data2 = data2.dropna()\n",
    "    data2 = data2[data2[\"isRun\"] == True]\n",
    "    data2[\"qtr_time_remain\"] = get_sec(data2[[\"qtr_time_remain\"]])\n",
    "    data2[\"time_elapsed\"] = data2[\"quarters\"]*15.0*60.0 - data2[\"qtr_time_remain\"]\n",
    "    return data2\n",
    "\n",
    "def plot_run(data):\n",
    "    ax = plt.subplot(111)\n",
    "    ax.hist(data[\"time_elapsed\"].values, bins=20, color=\"m\", alpha=0.8)\n",
    "    ax.set_title(\"Run Progression\")\n",
    "    ax.set_xlabel(\"Time elapsed (seconds)\")\n",
    "    ax.set_ylabel(\"Frequency\")\n",
    "    ax.set_xlim(0,3600)\n",
    "    ax.axvline(15*60, color=\"k\", label = \"quarter end\", ls = '--')\n",
    "    ax.axvline(30*60, color=\"k\", ls = '--')\n",
    "    ax.axvline(45*60, color=\"k\", ls = '--')\n",
    "    ax.legend()\n",
    "    ax.grid(False)\n",
    "    sns.despine()\n",
    "    return ax"
   ]
  },
  {
   "cell_type": "code",
   "execution_count": 12,
   "metadata": {
    "collapsed": false
   },
   "outputs": [
    {
     "name": "stderr",
     "output_type": "stream",
     "text": [
      "/Users/StevenRachesky/anaconda/lib/python2.7/site-packages/ipykernel/__main__.py:8: SettingWithCopyWarning: \n",
      "A value is trying to be set on a copy of a slice from a DataFrame.\n",
      "Try using .loc[row_indexer,col_indexer] = value instead\n",
      "\n",
      "See the the caveats in the documentation: http://pandas.pydata.org/pandas-docs/stable/indexing.html#indexing-view-versus-copy\n"
     ]
    },
    {
     "data": {
      "text/plain": [
       "<matplotlib.axes._subplots.AxesSubplot at 0x10e711b10>"
      ]
     },
     "execution_count": 12,
     "metadata": {},
     "output_type": "execute_result"
    },
    {
     "data": {
      "image/png": "[encoded data removed]",
      "text/plain": [
       "<matplotlib.figure.Figure at 0x10e2af650>"
      ]
     },
     "metadata": {},
     "output_type": "display_data"
    }
   ],
   "source": [
    "rundf = clean_run(data11)\n",
    "plot_run(rundf)"
   ]
  },
  {
   "cell_type": "code",
   "execution_count": 13,
   "metadata": {
    "collapsed": false
   },
   "outputs": [],
   "source": [
    "inputs = [\"bsID\", \"down\", \"location\", \"pbp_score_aw\", \"pbp_score_hm\", \"qtr_time_remain\", \"quarter\", \"timeoutNum\", \"timeoutTeam\", \"yds_to_go\"]"
   ]
  },
  {
   "cell_type": "code",
   "execution_count": 14,
   "metadata": {
    "collapsed": false
   },
   "outputs": [
    {
     "data": {
      "text/html": [
       "<div>\n",
       "<table border=\"1\" class=\"dataframe\">\n",
       "  <thead>\n",
       "    <tr style=\"text-align: right;\">\n",
       "      <th></th>\n",
       "      <th>down</th>\n",
       "      <th>location</th>\n",
       "      <th>isPass</th>\n",
       "      <th>isComplete</th>\n",
       "      <th>isRun</th>\n",
       "      <th>passLoc</th>\n",
       "      <th>rushDir</th>\n",
       "      <th>qtr_time_remain</th>\n",
       "      <th>quarter</th>\n",
       "      <th>rusher</th>\n",
       "      <th>yds_to_go</th>\n",
       "      <th>passer</th>\n",
       "      <th>pbp_score_aw</th>\n",
       "      <th>pbp_score_hm</th>\n",
       "      <th>timeoutNum</th>\n",
       "      <th>timeoutTeam</th>\n",
       "    </tr>\n",
       "  </thead>\n",
       "  <tbody>\n",
       "    <tr>\n",
       "      <th>0</th>\n",
       "      <td>NaN</td>\n",
       "      <td>CRD 35</td>\n",
       "      <td>False</td>\n",
       "      <td>False</td>\n",
       "      <td>False</td>\n",
       "      <td>NaN</td>\n",
       "      <td>NaN</td>\n",
       "      <td>15:00</td>\n",
       "      <td>1.0</td>\n",
       "      <td>NaN</td>\n",
       "      <td>NaN</td>\n",
       "      <td>NaN</td>\n",
       "      <td>0</td>\n",
       "      <td>0</td>\n",
       "      <td>NaN</td>\n",
       "      <td>NaN</td>\n",
       "    </tr>\n",
       "    <tr>\n",
       "      <th>1</th>\n",
       "      <td>1</td>\n",
       "      <td>RAM 24</td>\n",
       "      <td>True</td>\n",
       "      <td>True</td>\n",
       "      <td>False</td>\n",
       "      <td>SR</td>\n",
       "      <td>NaN</td>\n",
       "      <td>14:53</td>\n",
       "      <td>1.0</td>\n",
       "      <td>NaN</td>\n",
       "      <td>10</td>\n",
       "      <td>BradSa00</td>\n",
       "      <td>0</td>\n",
       "      <td>0</td>\n",
       "      <td>NaN</td>\n",
       "      <td>NaN</td>\n",
       "    </tr>\n",
       "  </tbody>\n",
       "</table>\n",
       "</div>"
      ],
      "text/plain": [
       "   down location isPass isComplete  isRun passLoc rushDir qtr_time_remain quarter rusher  yds_to_go    passer  pbp_score_aw  pbp_score_hm  timeoutNum timeoutTeam\n",
       "0   NaN   CRD 35  False      False  False     NaN     NaN           15:00     1.0    NaN        NaN       NaN             0             0         NaN         NaN\n",
       "1     1   RAM 24   True       True  False      SR     NaN           14:53     1.0    NaN         10  BradSa00             0             0         NaN         NaN"
      ]
     },
     "execution_count": 14,
     "metadata": {},
     "output_type": "execute_result"
    }
   ],
   "source": [
    "dftest = data11[[\"down\", \"location\", \"isPass\",\"isComplete\", \"isRun\", \"passLoc\", \"rushDir\", \"qtr_time_remain\", \"quarter\", \"rusher\", \"yds_to_go\", \"passer\", \"pbp_score_aw\", \"pbp_score_hm\", \"timeoutNum\", \"timeoutTeam\"]]\n",
    "dftest.head(2)"
   ]
  },
  {
   "cell_type": "code",
   "execution_count": 15,
   "metadata": {
    "collapsed": false
   },
   "outputs": [
    {
     "data": {
      "text/plain": [
       "array(['M', 'RT', 'LT', 'LE', 'LG', nan, 'RG', 'RE'], dtype=object)"
      ]
     },
     "execution_count": 15,
     "metadata": {},
     "output_type": "execute_result"
    }
   ],
   "source": [
    "dftest[dftest.isRun == True].rushDir.unique()"
   ]
  },
  {
   "cell_type": "code",
   "execution_count": 16,
   "metadata": {
    "collapsed": false,
    "scrolled": false
   },
   "outputs": [
    {
     "name": "stderr",
     "output_type": "stream",
     "text": [
      "/Users/StevenRachesky/anaconda/lib/python2.7/site-packages/ipykernel/__main__.py:93: SettingWithCopyWarning: \n",
      "A value is trying to be set on a copy of a slice from a DataFrame.\n",
      "Try using .loc[row_indexer,col_indexer] = value instead\n",
      "\n",
      "See the the caveats in the documentation: http://pandas.pydata.org/pandas-docs/stable/indexing.html#indexing-view-versus-copy\n",
      "/Users/StevenRachesky/anaconda/lib/python2.7/site-packages/ipykernel/__main__.py:94: SettingWithCopyWarning: \n",
      "A value is trying to be set on a copy of a slice from a DataFrame.\n",
      "Try using .loc[row_indexer,col_indexer] = value instead\n",
      "\n",
      "See the the caveats in the documentation: http://pandas.pydata.org/pandas-docs/stable/indexing.html#indexing-view-versus-copy\n",
      "/Users/StevenRachesky/anaconda/lib/python2.7/site-packages/ipykernel/__main__.py:95: SettingWithCopyWarning: \n",
      "A value is trying to be set on a copy of a slice from a DataFrame.\n",
      "Try using .loc[row_indexer,col_indexer] = value instead\n",
      "\n",
      "See the the caveats in the documentation: http://pandas.pydata.org/pandas-docs/stable/indexing.html#indexing-view-versus-copy\n",
      "/Users/StevenRachesky/anaconda/lib/python2.7/site-packages/ipykernel/__main__.py:96: SettingWithCopyWarning: \n",
      "A value is trying to be set on a copy of a slice from a DataFrame.\n",
      "Try using .loc[row_indexer,col_indexer] = value instead\n",
      "\n",
      "See the the caveats in the documentation: http://pandas.pydata.org/pandas-docs/stable/indexing.html#indexing-view-versus-copy\n",
      "/Users/StevenRachesky/anaconda/lib/python2.7/site-packages/ipykernel/__main__.py:97: SettingWithCopyWarning: \n",
      "A value is trying to be set on a copy of a slice from a DataFrame.\n",
      "Try using .loc[row_indexer,col_indexer] = value instead\n",
      "\n",
      "See the the caveats in the documentation: http://pandas.pydata.org/pandas-docs/stable/indexing.html#indexing-view-versus-copy\n",
      "/Users/StevenRachesky/anaconda/lib/python2.7/site-packages/ipykernel/__main__.py:98: SettingWithCopyWarning: \n",
      "A value is trying to be set on a copy of a slice from a DataFrame.\n",
      "Try using .loc[row_indexer,col_indexer] = value instead\n",
      "\n",
      "See the the caveats in the documentation: http://pandas.pydata.org/pandas-docs/stable/indexing.html#indexing-view-versus-copy\n",
      "/Users/StevenRachesky/anaconda/lib/python2.7/site-packages/ipykernel/__main__.py:99: SettingWithCopyWarning: \n",
      "A value is trying to be set on a copy of a slice from a DataFrame.\n",
      "Try using .loc[row_indexer,col_indexer] = value instead\n",
      "\n",
      "See the the caveats in the documentation: http://pandas.pydata.org/pandas-docs/stable/indexing.html#indexing-view-versus-copy\n",
      "/Users/StevenRachesky/anaconda/lib/python2.7/site-packages/ipykernel/__main__.py:100: SettingWithCopyWarning: \n",
      "A value is trying to be set on a copy of a slice from a DataFrame.\n",
      "Try using .loc[row_indexer,col_indexer] = value instead\n",
      "\n",
      "See the the caveats in the documentation: http://pandas.pydata.org/pandas-docs/stable/indexing.html#indexing-view-versus-copy\n",
      "/Users/StevenRachesky/anaconda/lib/python2.7/site-packages/ipykernel/__main__.py:103: SettingWithCopyWarning: \n",
      "A value is trying to be set on a copy of a slice from a DataFrame.\n",
      "Try using .loc[row_indexer,col_indexer] = value instead\n",
      "\n",
      "See the the caveats in the documentation: http://pandas.pydata.org/pandas-docs/stable/indexing.html#indexing-view-versus-copy\n",
      "/Users/StevenRachesky/anaconda/lib/python2.7/site-packages/ipykernel/__main__.py:104: SettingWithCopyWarning: \n",
      "A value is trying to be set on a copy of a slice from a DataFrame.\n",
      "Try using .loc[row_indexer,col_indexer] = value instead\n",
      "\n",
      "See the the caveats in the documentation: http://pandas.pydata.org/pandas-docs/stable/indexing.html#indexing-view-versus-copy\n",
      "/Users/StevenRachesky/anaconda/lib/python2.7/site-packages/ipykernel/__main__.py:105: SettingWithCopyWarning: \n",
      "A value is trying to be set on a copy of a slice from a DataFrame.\n",
      "Try using .loc[row_indexer,col_indexer] = value instead\n",
      "\n",
      "See the the caveats in the documentation: http://pandas.pydata.org/pandas-docs/stable/indexing.html#indexing-view-versus-copy\n",
      "/Users/StevenRachesky/anaconda/lib/python2.7/site-packages/ipykernel/__main__.py:106: SettingWithCopyWarning: \n",
      "A value is trying to be set on a copy of a slice from a DataFrame.\n",
      "Try using .loc[row_indexer,col_indexer] = value instead\n",
      "\n",
      "See the the caveats in the documentation: http://pandas.pydata.org/pandas-docs/stable/indexing.html#indexing-view-versus-copy\n",
      "/Users/StevenRachesky/anaconda/lib/python2.7/site-packages/ipykernel/__main__.py:107: SettingWithCopyWarning: \n",
      "A value is trying to be set on a copy of a slice from a DataFrame.\n",
      "Try using .loc[row_indexer,col_indexer] = value instead\n",
      "\n",
      "See the the caveats in the documentation: http://pandas.pydata.org/pandas-docs/stable/indexing.html#indexing-view-versus-copy\n",
      "/Users/StevenRachesky/anaconda/lib/python2.7/site-packages/ipykernel/__main__.py:108: SettingWithCopyWarning: \n",
      "A value is trying to be set on a copy of a slice from a DataFrame.\n",
      "Try using .loc[row_indexer,col_indexer] = value instead\n",
      "\n",
      "See the the caveats in the documentation: http://pandas.pydata.org/pandas-docs/stable/indexing.html#indexing-view-versus-copy\n",
      "/Users/StevenRachesky/anaconda/lib/python2.7/site-packages/ipykernel/__main__.py:109: SettingWithCopyWarning: \n",
      "A value is trying to be set on a copy of a slice from a DataFrame.\n",
      "Try using .loc[row_indexer,col_indexer] = value instead\n",
      "\n",
      "See the the caveats in the documentation: http://pandas.pydata.org/pandas-docs/stable/indexing.html#indexing-view-versus-copy\n"
     ]
    },
    {
     "data": {
      "text/html": [
       "<div>\n",
       "<table border=\"1\" class=\"dataframe\">\n",
       "  <thead>\n",
       "    <tr style=\"text-align: right;\">\n",
       "      <th></th>\n",
       "      <th>down</th>\n",
       "      <th>location</th>\n",
       "      <th>isPass</th>\n",
       "      <th>isComplete</th>\n",
       "      <th>isRun</th>\n",
       "      <th>passLoc</th>\n",
       "      <th>rushDir</th>\n",
       "      <th>qtr_time_remain</th>\n",
       "      <th>quarter</th>\n",
       "      <th>rusher</th>\n",
       "      <th>yds_to_go</th>\n",
       "      <th>passer</th>\n",
       "      <th>pbp_score_aw</th>\n",
       "      <th>pbp_score_hm</th>\n",
       "      <th>timeoutNum</th>\n",
       "      <th>timeoutTeam</th>\n",
       "      <th>isPassSM</th>\n",
       "      <th>isPassSL</th>\n",
       "      <th>isPassSR</th>\n",
       "      <th>isPassDM</th>\n",
       "      <th>isPassDL</th>\n",
       "      <th>isPassDR</th>\n",
       "      <th>isPassS</th>\n",
       "      <th>isPassD</th>\n",
       "      <th>isRunLE</th>\n",
       "      <th>isRunRE</th>\n",
       "      <th>isRunRT</th>\n",
       "      <th>isRunLT</th>\n",
       "      <th>isRunRG</th>\n",
       "      <th>isRunLG</th>\n",
       "      <th>isRunM</th>\n",
       "    </tr>\n",
       "  </thead>\n",
       "  <tbody>\n",
       "    <tr>\n",
       "      <th>0</th>\n",
       "      <td>NaN</td>\n",
       "      <td>CRD 35</td>\n",
       "      <td>False</td>\n",
       "      <td>False</td>\n",
       "      <td>False</td>\n",
       "      <td>NaN</td>\n",
       "      <td>NaN</td>\n",
       "      <td>15:00</td>\n",
       "      <td>1.0</td>\n",
       "      <td>NaN</td>\n",
       "      <td>NaN</td>\n",
       "      <td>NaN</td>\n",
       "      <td>0</td>\n",
       "      <td>0</td>\n",
       "      <td>NaN</td>\n",
       "      <td>NaN</td>\n",
       "      <td>0</td>\n",
       "      <td>0</td>\n",
       "      <td>0</td>\n",
       "      <td>0</td>\n",
       "      <td>0</td>\n",
       "      <td>0</td>\n",
       "      <td>0</td>\n",
       "      <td>0</td>\n",
       "      <td>0</td>\n",
       "      <td>0</td>\n",
       "      <td>0</td>\n",
       "      <td>0</td>\n",
       "      <td>0</td>\n",
       "      <td>0</td>\n",
       "      <td>0</td>\n",
       "    </tr>\n",
       "    <tr>\n",
       "      <th>1</th>\n",
       "      <td>1</td>\n",
       "      <td>RAM 24</td>\n",
       "      <td>True</td>\n",
       "      <td>True</td>\n",
       "      <td>False</td>\n",
       "      <td>SR</td>\n",
       "      <td>NaN</td>\n",
       "      <td>14:53</td>\n",
       "      <td>1.0</td>\n",
       "      <td>NaN</td>\n",
       "      <td>10</td>\n",
       "      <td>BradSa00</td>\n",
       "      <td>0</td>\n",
       "      <td>0</td>\n",
       "      <td>NaN</td>\n",
       "      <td>NaN</td>\n",
       "      <td>0</td>\n",
       "      <td>0</td>\n",
       "      <td>1</td>\n",
       "      <td>0</td>\n",
       "      <td>0</td>\n",
       "      <td>0</td>\n",
       "      <td>1</td>\n",
       "      <td>0</td>\n",
       "      <td>0</td>\n",
       "      <td>0</td>\n",
       "      <td>0</td>\n",
       "      <td>0</td>\n",
       "      <td>0</td>\n",
       "      <td>0</td>\n",
       "      <td>0</td>\n",
       "    </tr>\n",
       "    <tr>\n",
       "      <th>2</th>\n",
       "      <td>1</td>\n",
       "      <td>RAM 34</td>\n",
       "      <td>False</td>\n",
       "      <td>False</td>\n",
       "      <td>True</td>\n",
       "      <td>NaN</td>\n",
       "      <td>M</td>\n",
       "      <td>14:32</td>\n",
       "      <td>1.0</td>\n",
       "      <td>RichDa00</td>\n",
       "      <td>10</td>\n",
       "      <td>NaN</td>\n",
       "      <td>0</td>\n",
       "      <td>0</td>\n",
       "      <td>NaN</td>\n",
       "      <td>NaN</td>\n",
       "      <td>0</td>\n",
       "      <td>0</td>\n",
       "      <td>0</td>\n",
       "      <td>0</td>\n",
       "      <td>0</td>\n",
       "      <td>0</td>\n",
       "      <td>0</td>\n",
       "      <td>0</td>\n",
       "      <td>0</td>\n",
       "      <td>0</td>\n",
       "      <td>0</td>\n",
       "      <td>0</td>\n",
       "      <td>0</td>\n",
       "      <td>0</td>\n",
       "      <td>1</td>\n",
       "    </tr>\n",
       "    <tr>\n",
       "      <th>3</th>\n",
       "      <td>2</td>\n",
       "      <td>RAM 40</td>\n",
       "      <td>True</td>\n",
       "      <td>True</td>\n",
       "      <td>False</td>\n",
       "      <td>SR</td>\n",
       "      <td>NaN</td>\n",
       "      <td>13:56</td>\n",
       "      <td>1.0</td>\n",
       "      <td>NaN</td>\n",
       "      <td>4</td>\n",
       "      <td>BradSa00</td>\n",
       "      <td>0</td>\n",
       "      <td>0</td>\n",
       "      <td>NaN</td>\n",
       "      <td>NaN</td>\n",
       "      <td>0</td>\n",
       "      <td>0</td>\n",
       "      <td>1</td>\n",
       "      <td>0</td>\n",
       "      <td>0</td>\n",
       "      <td>0</td>\n",
       "      <td>1</td>\n",
       "      <td>0</td>\n",
       "      <td>0</td>\n",
       "      <td>0</td>\n",
       "      <td>0</td>\n",
       "      <td>0</td>\n",
       "      <td>0</td>\n",
       "      <td>0</td>\n",
       "      <td>0</td>\n",
       "    </tr>\n",
       "    <tr>\n",
       "      <th>4</th>\n",
       "      <td>1</td>\n",
       "      <td>RAM 45</td>\n",
       "      <td>True</td>\n",
       "      <td>True</td>\n",
       "      <td>False</td>\n",
       "      <td>SR</td>\n",
       "      <td>NaN</td>\n",
       "      <td>13:27</td>\n",
       "      <td>1.0</td>\n",
       "      <td>NaN</td>\n",
       "      <td>10</td>\n",
       "      <td>BradSa00</td>\n",
       "      <td>0</td>\n",
       "      <td>0</td>\n",
       "      <td>NaN</td>\n",
       "      <td>NaN</td>\n",
       "      <td>0</td>\n",
       "      <td>0</td>\n",
       "      <td>1</td>\n",
       "      <td>0</td>\n",
       "      <td>0</td>\n",
       "      <td>0</td>\n",
       "      <td>1</td>\n",
       "      <td>0</td>\n",
       "      <td>0</td>\n",
       "      <td>0</td>\n",
       "      <td>0</td>\n",
       "      <td>0</td>\n",
       "      <td>0</td>\n",
       "      <td>0</td>\n",
       "      <td>0</td>\n",
       "    </tr>\n",
       "  </tbody>\n",
       "</table>\n",
       "</div>"
      ],
      "text/plain": [
       "   down location isPass isComplete  isRun passLoc rushDir qtr_time_remain quarter    rusher  yds_to_go    passer  pbp_score_aw  pbp_score_hm  timeoutNum timeoutTeam  isPassSM  isPassSL  isPassSR  isPassDM  isPassDL  isPassDR  isPassS  isPassD  isRunLE  isRunRE  isRunRT  isRunLT  isRunRG  isRunLG  isRunM\n",
       "0   NaN   CRD 35  False      False  False     NaN     NaN           15:00     1.0       NaN        NaN       NaN             0             0         NaN         NaN         0         0         0         0         0         0        0        0        0        0        0        0        0        0       0\n",
       "1     1   RAM 24   True       True  False      SR     NaN           14:53     1.0       NaN         10  BradSa00             0             0         NaN         NaN         0         0         1         0         0         0        1        0        0        0        0        0        0        0       0\n",
       "2     1   RAM 34  False      False   True     NaN       M           14:32     1.0  RichDa00         10       NaN             0             0         NaN         NaN         0         0         0         0         0         0        0        0        0        0        0        0        0        0       1\n",
       "3     2   RAM 40   True       True  False      SR     NaN           13:56     1.0       NaN          4  BradSa00             0             0         NaN         NaN         0         0         1         0         0         0        1        0        0        0        0        0        0        0       0\n",
       "4     1   RAM 45   True       True  False      SR     NaN           13:27     1.0       NaN         10  BradSa00             0             0         NaN         NaN         0         0         1         0         0         0        1        0        0        0        0        0        0        0       0"
      ]
     },
     "execution_count": 16,
     "metadata": {},
     "output_type": "execute_result"
    }
   ],
   "source": [
    "def isPassSM(df):\n",
    "    if df[\"isPass\"]==True and df[\"passLoc\"] == \"SM\":\n",
    "        num = 1\n",
    "    else:\n",
    "        num = 0\n",
    "    return num\n",
    "\n",
    "def isPassSL(df):\n",
    "    if df[\"isPass\"]==True and df[\"passLoc\"] == \"SL\":\n",
    "        num = 1\n",
    "    else:\n",
    "        num = 0\n",
    "    return num\n",
    "\n",
    "def isPassSR(df):\n",
    "    if df[\"isPass\"]==True and df[\"passLoc\"] == \"SR\":\n",
    "        num = 1\n",
    "    else:\n",
    "        num = 0\n",
    "    return num\n",
    "\n",
    "def isPassDM(df):\n",
    "    if df[\"isPass\"]==True and df[\"passLoc\"] == \"DM\":\n",
    "        num = 1\n",
    "    else:\n",
    "        num = 0\n",
    "    return num\n",
    "\n",
    "def isPassDR(df):\n",
    "    if df[\"isPass\"]==True and df[\"passLoc\"] == \"DR\":\n",
    "        num = 1\n",
    "    else:\n",
    "        num = 0\n",
    "    return num\n",
    "\n",
    "def isPassDL(df):\n",
    "    if df[\"isPass\"]==True and df[\"passLoc\"] == \"DL\":\n",
    "        num = 1\n",
    "    else:\n",
    "        num = 0\n",
    "    return num\n",
    "\n",
    "def isRunLE(df):\n",
    "    if df[\"isRun\"]==True and df[\"rushDir\"] == \"LE\":\n",
    "        num = 1\n",
    "    else:\n",
    "        num = 0\n",
    "    return num\n",
    "\n",
    "def isRunRE(df):\n",
    "    if df[\"isRun\"]==True and df[\"rushDir\"] == \"RE\":\n",
    "        num = 1\n",
    "    else:\n",
    "        num = 0\n",
    "    return num\n",
    "\n",
    "def isRunM(df):\n",
    "    if df[\"isRun\"]==True and df[\"rushDir\"] == \"M\":\n",
    "        num = 1\n",
    "    else:\n",
    "        num = 0\n",
    "    return num\n",
    "\n",
    "def isRunLT(df):\n",
    "    if df[\"isRun\"]==True and df[\"rushDir\"] == \"LT\":\n",
    "        num = 1\n",
    "    else:\n",
    "        num = 0\n",
    "    return num\n",
    "\n",
    "def isRunRT(df):\n",
    "    if df[\"isRun\"]==True and df[\"rushDir\"] == \"RT\":\n",
    "        num = 1\n",
    "    else:\n",
    "        num = 0\n",
    "    return num\n",
    "\n",
    "def isRunRG(df):\n",
    "    if df[\"isRun\"]==True and df[\"rushDir\"] == \"RG\":\n",
    "        num = 1\n",
    "    else:\n",
    "        num = 0\n",
    "    return num\n",
    "\n",
    "def isRunLG(df):\n",
    "    if df[\"isRun\"]==True and df[\"rushDir\"] == \"LG\":\n",
    "        num = 1\n",
    "    else:\n",
    "        num = 0\n",
    "    return num\n",
    "\n",
    "#Create Pass Columns\n",
    "dftest[\"isPassSM\"] = dftest.apply(isPassSM, axis=1)\n",
    "dftest[\"isPassSL\"] = dftest.apply(isPassSL, axis=1)\n",
    "dftest[\"isPassSR\"] = dftest.apply(isPassSR, axis=1)\n",
    "dftest[\"isPassDM\"] = dftest.apply(isPassDM, axis=1)\n",
    "dftest[\"isPassDL\"] = dftest.apply(isPassDL, axis=1)\n",
    "dftest[\"isPassDR\"] = dftest.apply(isPassDR, axis=1)\n",
    "dftest[\"isPassS\"] = dftest[\"isPassSM\"] + dftest[\"isPassSL\"] + dftest[\"isPassSR\"]\n",
    "dftest[\"isPassD\"] = dftest[\"isPassDM\"] + dftest[\"isPassDL\"] + dftest[\"isPassDR\"]\n",
    "\n",
    "#Create Run Columns\n",
    "dftest[\"isRunLE\"] = dftest.apply(isRunLE, axis=1)\n",
    "dftest[\"isRunRE\"] = dftest.apply(isRunRE, axis=1)\n",
    "dftest[\"isRunRT\"] = dftest.apply(isRunRT, axis=1)\n",
    "dftest[\"isRunLT\"] = dftest.apply(isRunLT, axis=1)\n",
    "dftest[\"isRunRG\"] = dftest.apply(isRunRG, axis=1)\n",
    "dftest[\"isRunLG\"] = dftest.apply(isRunLG, axis=1)\n",
    "dftest[\"isRunM\"] = dftest.apply(isRunM, axis=1)\n",
    "dftest.head()\n",
    "\n"
   ]
  },
  {
   "cell_type": "code",
   "execution_count": 17,
   "metadata": {
    "collapsed": false
   },
   "outputs": [
    {
     "name": "stderr",
     "output_type": "stream",
     "text": [
      "/Users/StevenRachesky/anaconda/lib/python2.7/site-packages/pandas/core/frame.py:1825: UserWarning: Boolean Series key will be reindexed to match DataFrame index.\n",
      "  \"DataFrame index.\", UserWarning)\n"
     ]
    },
    {
     "data": {
      "text/plain": [
       "25316"
      ]
     },
     "execution_count": 17,
     "metadata": {},
     "output_type": "execute_result"
    }
   ],
   "source": [
    "len(dftest[dftest[\"isComplete\"]==True]) +  len(dftest[dftest.isRun==True][dftest.rushDir != np.nan])"
   ]
  },
  {
   "cell_type": "code",
   "execution_count": null,
   "metadata": {
    "collapsed": false
   },
   "outputs": [],
   "source": []
  },
  {
   "cell_type": "code",
   "execution_count": 18,
   "metadata": {
    "collapsed": false,
    "scrolled": true
   },
   "outputs": [],
   "source": [
    "n = float(len(dftest.passLoc.dropna()) +  len(dftest[\"rushDir\"].dropna()))\n",
    "res_dict = {\n",
    "    \"isPassSL\": dftest.isPassSL.sum()/n,\n",
    "    \"isPassSM\": dftest.isPassSM.sum()/n,\n",
    "    \"isPassSR\": dftest.isPassSR.sum()/n,\n",
    "    \"isPassDL\": dftest.isPassDL.sum()/n,\n",
    "    \"isPassDM\": dftest.isPassDM.sum()/n,\n",
    "    \"isPassDR\": dftest.isPassDR.sum()/n,\n",
    "    \"isRunLE\": dftest.isRunLE.sum()/n,\n",
    "    \"isRunLT\": dftest.isRunLT.sum()/n,\n",
    "    \"isRunLG\": dftest.isRunLG.sum()/n,\n",
    "    \"isRunM\": dftest.isRunM.sum()/n,\n",
    "    \"isRunRG\": dftest.isRunRG.sum()/n,\n",
    "    \"isRunRT\": dftest.isRunRT.sum()/n,\n",
    "    \"isRunRE\": dftest.isRunRE.sum()/n\n",
    "    }\n"
   ]
  },
  {
   "cell_type": "code",
   "execution_count": 19,
   "metadata": {
    "collapsed": false
   },
   "outputs": [
    {
     "data": {
      "text/plain": [
       "{'isPassDL': 0.041584837432588298,\n",
       " 'isPassDM': 0.026123008821970758,\n",
       " 'isPassDR': 0.046323139748745287,\n",
       " 'isPassSL': 0.16995542255057827,\n",
       " 'isPassSM': 0.11156831572056486,\n",
       " 'isPassSR': 0.18756819102839864,\n",
       " 'isRunLE': 0.054209919261822379,\n",
       " 'isRunLG': 0.047040119704479563,\n",
       " 'isRunLT': 0.051497864646653575,\n",
       " 'isRunM': 0.11674304061847314,\n",
       " 'isRunRE': 0.04273823997007388,\n",
       " 'isRunRG': 0.052620094142585491,\n",
       " 'isRunRT': 0.052027806353065871}"
      ]
     },
     "execution_count": 19,
     "metadata": {},
     "output_type": "execute_result"
    }
   ],
   "source": [
    "res_dict"
   ]
  },
  {
   "cell_type": "code",
   "execution_count": 20,
   "metadata": {
    "collapsed": false
   },
   "outputs": [
    {
     "data": {
      "text/plain": [
       "1.0"
      ]
     },
     "execution_count": 20,
     "metadata": {},
     "output_type": "execute_result"
    }
   ],
   "source": [
    "np.array(res_dict.values()).sum()"
   ]
  },
  {
   "cell_type": "code",
   "execution_count": 21,
   "metadata": {
    "collapsed": false
   },
   "outputs": [
    {
     "data": {
      "text/html": [
       "<div>\n",
       "<table border=\"1\" class=\"dataframe\">\n",
       "  <thead>\n",
       "    <tr style=\"text-align: right;\">\n",
       "      <th></th>\n",
       "      <th>bsID</th>\n",
       "      <th>down</th>\n",
       "      <th>location</th>\n",
       "      <th>pbp_score_aw</th>\n",
       "      <th>pbp_score_hm</th>\n",
       "      <th>qtr_time_remain</th>\n",
       "      <th>quarter</th>\n",
       "      <th>timeoutNum</th>\n",
       "      <th>timeoutTeam</th>\n",
       "      <th>yds_to_go</th>\n",
       "    </tr>\n",
       "  </thead>\n",
       "  <tbody>\n",
       "    <tr>\n",
       "      <th>0</th>\n",
       "      <td>201309080ram</td>\n",
       "      <td>NaN</td>\n",
       "      <td>CRD 35</td>\n",
       "      <td>0</td>\n",
       "      <td>0</td>\n",
       "      <td>15:00</td>\n",
       "      <td>1.0</td>\n",
       "      <td>NaN</td>\n",
       "      <td>NaN</td>\n",
       "      <td>NaN</td>\n",
       "    </tr>\n",
       "    <tr>\n",
       "      <th>1</th>\n",
       "      <td>201309080ram</td>\n",
       "      <td>1</td>\n",
       "      <td>RAM 24</td>\n",
       "      <td>0</td>\n",
       "      <td>0</td>\n",
       "      <td>14:53</td>\n",
       "      <td>1.0</td>\n",
       "      <td>NaN</td>\n",
       "      <td>NaN</td>\n",
       "      <td>10</td>\n",
       "    </tr>\n",
       "    <tr>\n",
       "      <th>2</th>\n",
       "      <td>201309080ram</td>\n",
       "      <td>1</td>\n",
       "      <td>RAM 34</td>\n",
       "      <td>0</td>\n",
       "      <td>0</td>\n",
       "      <td>14:32</td>\n",
       "      <td>1.0</td>\n",
       "      <td>NaN</td>\n",
       "      <td>NaN</td>\n",
       "      <td>10</td>\n",
       "    </tr>\n",
       "    <tr>\n",
       "      <th>3</th>\n",
       "      <td>201309080ram</td>\n",
       "      <td>2</td>\n",
       "      <td>RAM 40</td>\n",
       "      <td>0</td>\n",
       "      <td>0</td>\n",
       "      <td>13:56</td>\n",
       "      <td>1.0</td>\n",
       "      <td>NaN</td>\n",
       "      <td>NaN</td>\n",
       "      <td>4</td>\n",
       "    </tr>\n",
       "    <tr>\n",
       "      <th>4</th>\n",
       "      <td>201309080ram</td>\n",
       "      <td>1</td>\n",
       "      <td>RAM 45</td>\n",
       "      <td>0</td>\n",
       "      <td>0</td>\n",
       "      <td>13:27</td>\n",
       "      <td>1.0</td>\n",
       "      <td>NaN</td>\n",
       "      <td>NaN</td>\n",
       "      <td>10</td>\n",
       "    </tr>\n",
       "  </tbody>\n",
       "</table>\n",
       "</div>"
      ],
      "text/plain": [
       "           bsID  down location  pbp_score_aw  pbp_score_hm qtr_time_remain quarter  timeoutNum timeoutTeam  yds_to_go\n",
       "0  201309080ram   NaN   CRD 35             0             0           15:00     1.0         NaN         NaN        NaN\n",
       "1  201309080ram     1   RAM 24             0             0           14:53     1.0         NaN         NaN         10\n",
       "2  201309080ram     1   RAM 34             0             0           14:32     1.0         NaN         NaN         10\n",
       "3  201309080ram     2   RAM 40             0             0           13:56     1.0         NaN         NaN          4\n",
       "4  201309080ram     1   RAM 45             0             0           13:27     1.0         NaN         NaN         10"
      ]
     },
     "execution_count": 21,
     "metadata": {},
     "output_type": "execute_result"
    }
   ],
   "source": [
    "dfinp = data11[inputs]\n",
    "dfinp.head()"
   ]
  },
  {
   "cell_type": "code",
   "execution_count": 22,
   "metadata": {
    "collapsed": false
   },
   "outputs": [
    {
     "data": {
      "text/plain": [
       "'RAM'"
      ]
     },
     "execution_count": 22,
     "metadata": {},
     "output_type": "execute_result"
    }
   ],
   "source": [
    "dfinp.bsID[0][-3:].upper()"
   ]
  },
  {
   "cell_type": "code",
   "execution_count": 23,
   "metadata": {
    "collapsed": false,
    "scrolled": true
   },
   "outputs": [
    {
     "name": "stderr",
     "output_type": "stream",
     "text": [
      "/Users/StevenRachesky/anaconda/lib/python2.7/site-packages/ipykernel/__main__.py:5: SettingWithCopyWarning: \n",
      "A value is trying to be set on a copy of a slice from a DataFrame.\n",
      "Try using .loc[row_indexer,col_indexer] = value instead\n",
      "\n",
      "See the the caveats in the documentation: http://pandas.pydata.org/pandas-docs/stable/indexing.html#indexing-view-versus-copy\n"
     ]
    },
    {
     "data": {
      "text/html": [
       "<div>\n",
       "<table border=\"1\" class=\"dataframe\">\n",
       "  <thead>\n",
       "    <tr style=\"text-align: right;\">\n",
       "      <th></th>\n",
       "      <th>bsID</th>\n",
       "      <th>down</th>\n",
       "      <th>location</th>\n",
       "      <th>pbp_score_aw</th>\n",
       "      <th>pbp_score_hm</th>\n",
       "      <th>qtr_time_remain</th>\n",
       "      <th>quarter</th>\n",
       "      <th>timeoutNum</th>\n",
       "      <th>timeoutTeam</th>\n",
       "      <th>yds_to_go</th>\n",
       "      <th>home_team</th>\n",
       "    </tr>\n",
       "  </thead>\n",
       "  <tbody>\n",
       "    <tr>\n",
       "      <th>0</th>\n",
       "      <td>201309080ram</td>\n",
       "      <td>NaN</td>\n",
       "      <td>CRD 35</td>\n",
       "      <td>0</td>\n",
       "      <td>0</td>\n",
       "      <td>15:00</td>\n",
       "      <td>1.0</td>\n",
       "      <td>NaN</td>\n",
       "      <td>NaN</td>\n",
       "      <td>NaN</td>\n",
       "      <td>RAM</td>\n",
       "    </tr>\n",
       "    <tr>\n",
       "      <th>1</th>\n",
       "      <td>201309080ram</td>\n",
       "      <td>1</td>\n",
       "      <td>RAM 24</td>\n",
       "      <td>0</td>\n",
       "      <td>0</td>\n",
       "      <td>14:53</td>\n",
       "      <td>1.0</td>\n",
       "      <td>NaN</td>\n",
       "      <td>NaN</td>\n",
       "      <td>10</td>\n",
       "      <td>RAM</td>\n",
       "    </tr>\n",
       "    <tr>\n",
       "      <th>2</th>\n",
       "      <td>201309080ram</td>\n",
       "      <td>1</td>\n",
       "      <td>RAM 34</td>\n",
       "      <td>0</td>\n",
       "      <td>0</td>\n",
       "      <td>14:32</td>\n",
       "      <td>1.0</td>\n",
       "      <td>NaN</td>\n",
       "      <td>NaN</td>\n",
       "      <td>10</td>\n",
       "      <td>RAM</td>\n",
       "    </tr>\n",
       "    <tr>\n",
       "      <th>3</th>\n",
       "      <td>201309080ram</td>\n",
       "      <td>2</td>\n",
       "      <td>RAM 40</td>\n",
       "      <td>0</td>\n",
       "      <td>0</td>\n",
       "      <td>13:56</td>\n",
       "      <td>1.0</td>\n",
       "      <td>NaN</td>\n",
       "      <td>NaN</td>\n",
       "      <td>4</td>\n",
       "      <td>RAM</td>\n",
       "    </tr>\n",
       "    <tr>\n",
       "      <th>4</th>\n",
       "      <td>201309080ram</td>\n",
       "      <td>1</td>\n",
       "      <td>RAM 45</td>\n",
       "      <td>0</td>\n",
       "      <td>0</td>\n",
       "      <td>13:27</td>\n",
       "      <td>1.0</td>\n",
       "      <td>NaN</td>\n",
       "      <td>NaN</td>\n",
       "      <td>10</td>\n",
       "      <td>RAM</td>\n",
       "    </tr>\n",
       "  </tbody>\n",
       "</table>\n",
       "</div>"
      ],
      "text/plain": [
       "           bsID  down location  pbp_score_aw  pbp_score_hm qtr_time_remain quarter  timeoutNum timeoutTeam  yds_to_go home_team\n",
       "0  201309080ram   NaN   CRD 35             0             0           15:00     1.0         NaN         NaN        NaN       RAM\n",
       "1  201309080ram     1   RAM 24             0             0           14:53     1.0         NaN         NaN         10       RAM\n",
       "2  201309080ram     1   RAM 34             0             0           14:32     1.0         NaN         NaN         10       RAM\n",
       "3  201309080ram     2   RAM 40             0             0           13:56     1.0         NaN         NaN          4       RAM\n",
       "4  201309080ram     1   RAM 45             0             0           13:27     1.0         NaN         NaN         10       RAM"
      ]
     },
     "execution_count": 23,
     "metadata": {},
     "output_type": "execute_result"
    }
   ],
   "source": [
    "def find_home(df):\n",
    "    name = dfinp.bsID[0][-3:].upper()\n",
    "    return name\n",
    "\n",
    "dfinp[\"home_team\"] = dfinp.apply(find_home, axis=1)\n",
    "dfinp.head()"
   ]
  },
  {
   "cell_type": "code",
   "execution_count": 24,
   "metadata": {
    "collapsed": false
   },
   "outputs": [
    {
     "data": {
      "text/plain": [
       "False"
      ]
     },
     "execution_count": 24,
     "metadata": {},
     "output_type": "execute_result"
    }
   ],
   "source": [
    "dfinp.location[0][:3] == dfinp.bsID[5][-3:].upper()"
   ]
  },
  {
   "cell_type": "code",
   "execution_count": null,
   "metadata": {
    "collapsed": true
   },
   "outputs": [],
   "source": []
  },
  {
   "cell_type": "code",
   "execution_count": null,
   "metadata": {
    "collapsed": true
   },
   "outputs": [],
   "source": []
  }
 ],
 "metadata": {
  "kernelspec": {
   "display_name": "Python 2",
   "language": "python",
   "name": "python2"
  },
  "language_info": {
   "codemirror_mode": {
    "name": "ipython",
    "version": 2
   },
   "file_extension": ".py",
   "mimetype": "text/x-python",
   "name": "python",
   "nbconvert_exporter": "python",
   "pygments_lexer": "ipython2",
   "version": "2.7.10"
  }
 },
 "nbformat": 4,
 "nbformat_minor": 0
}
