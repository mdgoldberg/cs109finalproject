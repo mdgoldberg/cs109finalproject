{
 "cells": [
  {
   "cell_type": "markdown",
   "metadata": {
    "collapsed": true
   },
   "source": [
    "### RUN ALL OF THIS CODE BELOW ONE TIME TO MERGE ALL DATA SETS, BUT THEN AFTER THAT, READ IN THE 4 DATA SETS AND MERGE INTO \"completedf\" AS DONE FURTHER BELOW, WHICH CAN BE USED IN proj_func.ipynb"
   ]
  },
  {
   "cell_type": "code",
   "execution_count": 1,
   "metadata": {
    "collapsed": false
   },
   "outputs": [],
   "source": [
    "#Imports\n",
    "%matplotlib inline\n",
    "import numpy as np\n",
    "import scipy as sp\n",
    "import matplotlib as mpl\n",
    "import matplotlib.cm as cm\n",
    "import matplotlib.pyplot as plt\n",
    "import pandas as pd\n",
    "pd.set_option('display.width', 500)\n",
    "pd.set_option('display.max_columns', 100)\n",
    "pd.set_option('display.notebook_repr_html', True)\n",
    "import seaborn as sns\n",
    "sns.set_style(\"whitegrid\")\n",
    "sns.set_context(\"poster\")\n",
    "import copy\n",
    "import pfr\n",
    "import time"
   ]
  },
  {
   "cell_type": "markdown",
   "metadata": {},
   "source": [
    "Merge all of the raw data that was stored in individual csvs for each year and save to the massive fulldf dataframe (all plays for all years)."
   ]
  },
  {
   "cell_type": "code",
   "execution_count": 3,
   "metadata": {
    "collapsed": true
   },
   "outputs": [],
   "source": [
    "# (we will use 2003-2014 for modeling, with 2002 providing additional information)\n",
    "years = [2002,2003,2004,2005,2006,2007,2008,2009,2010,2011,2012,2013,2014]\n",
    "years= [str(i) for i in years]\n",
    "data={}\n",
    "\n",
    "for i in years:\n",
    "    data[i] = pd.read_csv(i+'plays.csv')\n",
    "    data[i]['year'] = int(i)\n",
    "\n",
    "fulldf = pd.concat(data.values())\n",
    "fulldf = fulldf.reset_index(drop=True)\n",
    "fullplays = len(fulldf)"
   ]
  },
  {
   "cell_type": "markdown",
   "metadata": {},
   "source": [
    "Create an indicator for the team with the ball is the home team, as well as a column that has the time elapsed in the half and an indicator if it is the last 3 minutes of the half. Also create indicators for 1st half, 2nd half, and a column that has half as 1, 2, or OT."
   ]
  },
  {
   "cell_type": "code",
   "execution_count": 33,
   "metadata": {
    "collapsed": false
   },
   "outputs": [],
   "source": [
    "# create columns for if the team with the ball is the home team, as well as time elapsed in half\n",
    "fulldf['isHome'] = fulldf['tm'] == fulldf['home']\n",
    "fulldf['secsElapsedInHalf'] = np.remainder(fulldf['secsElapsedInGame'],1800)\n",
    "fulldf['isLast3minHalf'] = fulldf['secsElapsedInHalf'] >= 1620\n",
    "\n",
    "# create columns for half (1st half, 2nd half, overtime)\n",
    "fulldf['is1stHalf'] = fulldf['quarter'] < 3\n",
    "fulldf['is2ndHalf'] = (fulldf['quarter'] > 2) & (fulldf['quarter'] < 5)\n",
    "fulldf['half'] = 2 - (fulldf['is1stHalf'])\n",
    "for i,row in fulldf.iterrows():\n",
    "    if row['quarter'] == 5:\n",
    "        fulldf.loc[i,'half'] = 'OT'"
   ]
  },
  {
   "cell_type": "markdown",
   "metadata": {},
   "source": [
    "Create columns for home and away timeouts remaining in the half."
   ]
  },
  {
   "cell_type": "code",
   "execution_count": 34,
   "metadata": {
    "collapsed": false
   },
   "outputs": [],
   "source": [
    "# each team starts with 3 at each half (2 in overtime)\n",
    "def TO(df):\n",
    "    if df['half'] == 'OT':\n",
    "        return 2\n",
    "    else:\n",
    "        return 3\n",
    "\n",
    "fulldf['hm_TO_left'] = fulldf.apply(TO,axis=1)\n",
    "fulldf['aw_TO_left'] = fulldf.apply(TO,axis=1)\n",
    "\n",
    "# check each row to see if the row above was a timeout, and if so, then subtract 1 for each row below the timeout for the team timeouts remaining in the half (for the team that called the timeout)\n",
    "for i in range(1,fullplays):\n",
    "    if (fulldf.loc[i-1,'bsID'] == fulldf.loc[i,'bsID']) & (fulldf.loc[i-1,'half'] == fulldf.loc[i,'half']):\n",
    "        if fulldf.loc[i-1,'isTimeout']:\n",
    "            if fulldf.loc[i-1,'timeoutTeam'] == fulldf.loc[i-1,'home']:\n",
    "                fulldf.loc[i,'hm_TO_left'] = fulldf.loc[i-1,'hm_TO_left'] - 1\n",
    "                fulldf.loc[i,'aw_TO_left'] = fulldf.loc[i-1,'aw_TO_left']\n",
    "            elif fulldf.loc[i-1,'timeoutTeam'] == fulldf.loc[i-1,'away']:\n",
    "                fulldf.loc[i,'aw_TO_left'] = fulldf.loc[i-1,'aw_TO_left'] - 1\n",
    "                fulldf.loc[i,'hm_TO_left'] = fulldf.loc[i-1,'hm_TO_left']\n",
    "        else:\n",
    "            fulldf.loc[i,'hm_TO_left'] = fulldf.loc[i-1,'hm_TO_left']\n",
    "            fulldf.loc[i,'aw_TO_left'] = fulldf.loc[i-1,'aw_TO_left']\n",
    "\n",
    "# sometimes a team gets an injury 4th timeout, so change any -1's to 0's\n",
    "fulldf['hm_TO_left'] = fulldf['hm_TO_left'].apply(lambda h:h if h >= 0 else 0)\n",
    "fulldf['aw_TO_left'] = fulldf['aw_TO_left'].apply(lambda a:a if a >= 0 else 0)"
   ]
  },
  {
   "cell_type": "markdown",
   "metadata": {},
   "source": [
    "Create intermediate dataframes by deleting non-run/pass plays, removing rows where the team name is unknown, and removing 2-point conversion plays"
   ]
  },
  {
   "cell_type": "code",
   "execution_count": 54,
   "metadata": {
    "collapsed": false
   },
   "outputs": [],
   "source": [
    "# only keeep run and pass plays from fulldf in the dataframe df\n",
    "dfrunpass = fulldf[(fulldf['isPass'] == True) | (fulldf['isRun'] == True)]\n",
    "df1 = dfrunpass.reset_index(drop=True)\n",
    "\n",
    "# save all team names except NaN values\n",
    "tms = df1.tm.unique()[:-1]\n",
    "\n",
    "# delete rows that have NaN value in team (due to pro-reference site error)\n",
    "df = df1[df1.tm.isin(tms)].reset_index(drop=True)\n",
    "\n",
    "# get rid of 2-point conversions (no real need to predict, small sample) and plays where the team with the ball is unknown (rare)\n",
    "df = df[~np.isnan(df.down)].reset_index(drop=True)"
   ]
  },
  {
   "cell_type": "markdown",
   "metadata": {},
   "source": [
    "Create feature columns for the team with the ball (tm) and the opponent (opp) based on given home/away information.  Because we whether the team with the ball is the home team (isHome), we can use columns including the home and away scores as well as win probability at the start of the play and each team's number of timeouts remaining in the half in order to get those measures in terms of the team and opponent.  Furthermore, we can use those score columns to calculate the margin (team score - opponent score) at the start of each play as well as the sum of the two teams' scores at the start of the play (addscore)."
   ]
  },
  {
   "cell_type": "code",
   "execution_count": 55,
   "metadata": {
    "collapsed": false
   },
   "outputs": [],
   "source": [
    "# Have to account for the fact that the website gives the score after the play, so subtract 6 for TD plays from the scoring team\n",
    "def tmscore(df):\n",
    "    if df['isHome']:\n",
    "        if df['isTD'] == False:\n",
    "            sc = df['pbp_score_hm']\n",
    "        else:\n",
    "            if df['exp_pts_after'] < 0:\n",
    "                sc = df['pbp_score_hm']\n",
    "            else:\n",
    "                sc = df['pbp_score_hm'] - 6\n",
    "    else:\n",
    "        if df['isTD'] == False:\n",
    "            sc = df['pbp_score_aw']\n",
    "        else:\n",
    "            if df['exp_pts_after'] < 0:\n",
    "                sc = df['pbp_score_aw']\n",
    "            else:\n",
    "                sc = df['pbp_score_aw'] - 6\n",
    "    return sc\n",
    "\n",
    "# Have to account for the fact that the website gives the score after the play, so subtract 6 for TD plays from the scoring team\n",
    "def oppscore(df):\n",
    "    if df['isHome']:\n",
    "        if df['isTD'] == False:\n",
    "            sc = df['pbp_score_aw']\n",
    "        else:\n",
    "            if df['exp_pts_after'] < 0:\n",
    "                sc = df['pbp_score_aw'] - 6\n",
    "            else:\n",
    "                sc = df['pbp_score_aw']\n",
    "    else:\n",
    "        if df['isTD'] == False:\n",
    "            sc = df['pbp_score_hm']\n",
    "        else:\n",
    "            if df['exp_pts_after'] < 0:\n",
    "                sc = df['pbp_score_hm'] - 6\n",
    "            else:\n",
    "                sc = df['pbp_score_hm']\n",
    "    return sc\n",
    "    \n",
    "def tmwinprob(df):\n",
    "    if df['isHome']:\n",
    "        return df['home_wp']\n",
    "    else:\n",
    "        return 100.0 - df['home_wp']\n",
    "    \n",
    "def tmTOleft(df):\n",
    "    if df['isHome']:\n",
    "        return df['hm_TO_left']\n",
    "    else:\n",
    "        return df['aw_TO_left']\n",
    "    \n",
    "def oppTOleft(df):\n",
    "    if df['isHome']:\n",
    "        return df['aw_TO_left']\n",
    "    else:\n",
    "        return df['hm_TO_left']\n",
    "\n",
    "# apply those functions to create the columns\n",
    "df['tm_score'] = df.apply(tmscore,axis=1)\n",
    "df['opp_score'] = df.apply(oppscore,axis=1)\n",
    "df['tm_winprob'] = df.apply(tmwinprob,axis=1)\n",
    "df['tm_TO_left'] = df.apply(tmTOleft,axis=1)\n",
    "df['opp_TO_left'] = df.apply(oppTOleft,axis=1)\n",
    "\n",
    "# create scoring marging column (team with ball - opponent) and additive scoring value\n",
    "df['margin'] = df['tm_score'] - df['opp_score']\n",
    "df['addscore'] = df['tm_score'] + df['opp_score']\n",
    "\n",
    "# indicators if the team with the ball is in FG Range and/or RedZone\n",
    "df['isFGRange'] = df['distToGoal'] <= 38\n",
    "df['isRedZone'] = df['distToGoal'] <= 20"
   ]
  },
  {
   "cell_type": "markdown",
   "metadata": {},
   "source": [
    "Create distance to go groupings based on the number of yards a team needs to gain a first down."
   ]
  },
  {
   "cell_type": "code",
   "execution_count": 56,
   "metadata": {
    "collapsed": true
   },
   "outputs": [],
   "source": [
    "def dist1(y):\n",
    "    if y < 4:\n",
    "        return 'short'\n",
    "    elif y < 8:\n",
    "        return 'medium'\n",
    "    elif y < 12:\n",
    "        return 'long'\n",
    "    else:\n",
    "        return 'very long'"
   ]
  },
  {
   "cell_type": "markdown",
   "metadata": {},
   "source": [
    "Using some new concatenated columns created here, generate pass percentages for each team for each year (both generally, and specifically by down and distance to go grouping)."
   ]
  },
  {
   "cell_type": "code",
   "execution_count": 57,
   "metadata": {
    "collapsed": true
   },
   "outputs": [],
   "source": [
    "# create column for distance to go group, another column that concatenates year and team and another that concatenates year, team, down, and distance grouping\n",
    "df['dist_to_1st'] = [dist1(yd) for yd in df.yds_to_go.values]\n",
    "df['yeartm'] = [str(yr) + str(t) for yr,t in zip(df['year'],df['tm'])]\n",
    "df['yeartmdowndist_to_1st'] = [str(yr) + str(t) + str(d) + str(d1) for yr,t,d,d1 in zip(df['year'],df['tm'],df['down'],df['dist_to_1st'])]\n",
    "\n",
    "# create pass pct (generally) for each team and year\n",
    "passpct = (df.groupby('yeartm')['isPass'].mean())\n",
    "\n",
    "# create pass pct by down and distance grouping for each team and year\n",
    "ddpasspct = (df.groupby('yeartmdowndist_to_1st')['isPass'].mean())"
   ]
  },
  {
   "cell_type": "markdown",
   "metadata": {},
   "source": [
    "Using the groupby data above, create a column for each team's passing percentage by down and distance to go grouping based on the previous year's data."
   ]
  },
  {
   "cell_type": "code",
   "execution_count": 58,
   "metadata": {
    "collapsed": false
   },
   "outputs": [],
   "source": [
    "# create list with concatenated values for lookup of pass pct\n",
    "lastyeartmdowndist_to_1st = [str(yr-1) + str(t) + str(d) + str(d1) for yr,t,d,d1 in zip(df['year'],df['tm'],df['down'],df['dist_to_1st'])]\n",
    "\n",
    "# define function to get prior year pass pct\n",
    "def getpass(p):\n",
    "    # try to get the previous year's pass pct by down and dist grouping\n",
    "    try:\n",
    "        return ddpasspct[p]\n",
    "    \n",
    "    # if the grouping does not exist for the previous year for that team, then take that team's overall pass pct\n",
    "    except KeyError:\n",
    "        return passpct[p[:7]]\n",
    "\n",
    "# create pass pct by down and distance grouping for each team lagged by one season (take last season's pct, no priors for 2002)\n",
    "nanval = len(df[df.year==2002])\n",
    "prevp = [np.nan for i in xrange(nanval)]\n",
    "prevp.extend([getpass(passp) for passp in lastyeartmdowndist_to_1st[nanval:]])\n",
    "df['tm_prev_yr_pass'] = prevp"
   ]
  },
  {
   "cell_type": "markdown",
   "metadata": {},
   "source": [
    "Create month and day columns for the date and sort by team and then by date and time in game."
   ]
  },
  {
   "cell_type": "code",
   "execution_count": 59,
   "metadata": {
    "collapsed": false
   },
   "outputs": [],
   "source": [
    "dates = df.bsID.apply(lambda bID: pfr.boxscores.BoxScore(bID).date())\n",
    "years, months, days = zip(*((d.year, d.month, d.day) for d in dates))\n",
    "df['month'] = months\n",
    "df['day'] = days\n",
    "df = df.sort_values(['tm', 'year', 'month', 'day', 'secsElapsedInGame'],ascending=True)"
   ]
  },
  {
   "cell_type": "markdown",
   "metadata": {},
   "source": [
    "Create the game number column that gives the number game in the current season for the team with the ball in each row."
   ]
  },
  {
   "cell_type": "code",
   "execution_count": 60,
   "metadata": {
    "collapsed": false
   },
   "outputs": [],
   "source": [
    "# add gameNum column\n",
    "tmgb = df.groupby(['year','tm'])\n",
    "for tm, tmdf in tmgb:\n",
    "    bsIDsInOrder = tmdf.bsID.unique()\n",
    "    for i, bs in enumerate(bsIDsInOrder):\n",
    "        df.loc[df.bsID == bs, 'gameNum'] = i+1"
   ]
  },
  {
   "cell_type": "markdown",
   "metadata": {},
   "source": [
    "Define inSeasonPassPct and inGamePassPct.  The former calculates (for the team with the ball in a given row) the percentage of offensive plays (restricted to runs and passes) that were passes among games in the current season prior to the start of the current game.  The latter similarly calculates the percentage of plays that are passes for the team within the current game, prior to the start of that particular play."
   ]
  },
  {
   "cell_type": "code",
   "execution_count": 73,
   "metadata": {
    "collapsed": false
   },
   "outputs": [],
   "source": [
    "# use a cache dictionary for inSeasonPassPct to save time running the function\n",
    "cache = {}\n",
    "\n",
    "def inSeasonPassPct(row, df):\n",
    "    # don't need 2002 for this\n",
    "    if row['year'] == 2002:\n",
    "        return np.nan\n",
    "    \n",
    "    tup = (row['year'], row['tm'], row['gameNum'])\n",
    "    # if this value has already been computed, return it\n",
    "    if tup in cache:\n",
    "        return cache[tup]\n",
    "    \n",
    "    # otherwise, get previous year's pass pct if it is week one\n",
    "    if row.gameNum == 1:\n",
    "        val = passpct[str(row.year-1) + str(row.tm)]\n",
    "    \n",
    "    # otherwise, else get pass pct for the team in games before current game\n",
    "    else:\n",
    "        thisSeason = df[df.year == row['year']]\n",
    "        prevGames = thisSeason[(thisSeason.tm == row.tm) & (thisSeason.gameNum < row.gameNum)]\n",
    "        val = prevGames.isPass.mean()\n",
    "    \n",
    "    # store the value in the cache and return\n",
    "    cache[tup] = val\n",
    "    return val\n",
    "\n",
    "\n",
    "def inGamePassPct(row, df):\n",
    "    # don't need 2002 for this\n",
    "    if row['year'] == 2002:\n",
    "        return np.nan\n",
    "    \n",
    "    # use the team's in-season pass pct for the first play in a game\n",
    "    firstTime = df.loc[(df.tm == row.tm) & (df.bsID == row.bsID), 'secsElapsedInGame'].iloc[0]\n",
    "    if row.secsElapsedInGame == firstTime:\n",
    "        return inSeasonPassPct(row, df)\n",
    "    \n",
    "    # get the team's in-game pass pct by calculating the mean of isPass for all plays prior to the current one\n",
    "    else:\n",
    "        thisGame = df[df.bsID == row.bsID]\n",
    "        inGame = thisGame[(thisGame.tm == row.tm) & (thisGame.secsElapsedInGame < row.secsElapsedInGame)]\n",
    "        return inGame.isPass.mean()"
   ]
  },
  {
   "cell_type": "markdown",
   "metadata": {},
   "source": [
    "Apply the inSeasonPassPct and inGamePassPct functions to the dataframe in order to calculate those percentages at the start of each play in our data set."
   ]
  },
  {
   "cell_type": "code",
   "execution_count": 74,
   "metadata": {
    "collapsed": false
   },
   "outputs": [],
   "source": [
    "# create prior pass pct for each team in current season (taking into account all games before the current one), if it is week one, then use the prior pass pct for each team from the season before (the full season value)\n",
    "df['tm_in_season_pass'] = df.apply(inSeasonPassPct, args=(df,), axis=1)\n",
    "\n",
    "# create pass pct for each team within current game (taking into account all plays before the current one), but if it is the first play, then use the prior pass pct for that team from the game before (the full game value), unless it is week one, then use the pass pct for the team from the season before (the full season value)\n",
    "df['tm_in_game_pass'] = df.apply(inGamePassPct, args=(df,), axis=1)"
   ]
  },
  {
   "cell_type": "markdown",
   "metadata": {},
   "source": [
    "Make some new indicator columns, including the response variable (if the play is a pass), if the team is in Field Goal range, in the Red Zone, in the last 3 minutes of the half, and indiciators for down and quarter.\n",
    "\n",
    "Also, create two more indicators, one if the previous play for the team with the ball was a pass or run, and the other if it is the first play of a new drive. If it is the first play of the drive, then assign a 0 to the indicator for the previous play for the team being a pass."
   ]
  },
  {
   "cell_type": "code",
   "execution_count": 78,
   "metadata": {
    "collapsed": true
   },
   "outputs": [],
   "source": [
    "df[\"RESP\"] = df[\"isPass\"]*1.0\n",
    "df[\"inFGRange\"] = df[\"isFGRange\"]*1.0\n",
    "df[\"inRedZone\"] = df[\"isRedZone\"]*1.0\n",
    "df[\"inLast3minHalf\"] = df[\"isLast3minHalf\"]*1.0\n",
    "df[\"inDown1\"] = (df[\"down\"] == 1.)*1.0\n",
    "df[\"inDown2\"] = (df[\"down\"] == 2.)*1.0\n",
    "df[\"inDown3\"] = (df[\"down\"] == 3.)*1.0\n",
    "df[\"inQuarter1\"] = (df[\"quarter\"] == 1.)*1.0\n",
    "df[\"inQuarter2\"] = (df[\"quarter\"] == 2.)*1.0\n",
    "df[\"inQuarter3\"] = (df[\"quarter\"] == 3.)*1.0\n",
    "df[\"inQuarter4\"] = (df[\"quarter\"] == 4.)*1.0\n",
    "\n",
    "\n",
    "# initialize the first values of prevWasPass column to 0 and StartofDrive to 1 (first play of first team's drive in data set, but sort first by year and game [bsID] and chronologically [secsElapsedInGame])\n",
    "df = df.sort_values(['year','bsID','secsElapsedInGame'])\n",
    "df.loc[0,'prevWasPass'] = 0.0\n",
    "df.loc[0,'StartofDrive'] = 1.0\n",
    "\n",
    "# iterate through the rows to fill in these columns\n",
    "for i in range(1,len(df)):\n",
    "    # if the current row is the same game and the same team has the ball as the play above\n",
    "    if (df.loc[i-1,'bsID'] == df.loc[i,'bsID']) & (df.loc[i-1,'tm'] == df.loc[i,'tm']):\n",
    "        df.loc[i,'prevWasPass'] = df.loc[i-1,'isPass']*1.0\n",
    "        df.loc[i,'StartofDrive'] = 0.0\n",
    "    # otherwise, it is the start of a new drive\n",
    "    else:\n",
    "        df.loc[i,'prevWasPass'] = 0.0\n",
    "        df.loc[i,'StartofDrive'] = 1.0"
   ]
  },
  {
   "cell_type": "markdown",
   "metadata": {},
   "source": [
    "There was an error from the pro-football reference site (it was missing expected points before and after the play for a handful of games), in which case we dropped the plays from those games."
   ]
  },
  {
   "cell_type": "code",
   "execution_count": 91,
   "metadata": {
    "collapsed": false
   },
   "outputs": [],
   "source": [
    "df = df[(df.exp_pts_before != 0) | (df.exp_pts_after != 0)]"
   ]
  },
  {
   "cell_type": "markdown",
   "metadata": {},
   "source": [
    "Download all merged data as 4 csvs to then be reuploaded for use, so that all the code above need only be run once."
   ]
  },
  {
   "cell_type": "code",
   "execution_count": 100,
   "metadata": {
    "collapsed": false
   },
   "outputs": [],
   "source": [
    "df[df['year']<2005].to_csv('0204plays.csv', index=False, encoding = 'utf-8')\n",
    "df[(df['year']>2004) & (df['year']<2008)].to_csv('0507plays.csv', index=False, encoding = 'utf-8')\n",
    "df[(df['year']>2007) & (df['year']<2011)].to_csv('0810plays.csv', index=False, encoding = 'utf-8')\n",
    "df[df['year']>2010].to_csv('1114plays.csv', index=False, encoding = 'utf-8')"
   ]
  },
  {
   "cell_type": "markdown",
   "metadata": {},
   "source": [
    "Reupload all data to have as one dataset again, but remove 2002, because it has served it's purpose of creating 2003 priors. Completedf is the finalized data set that we work with throughout the rest of the project"
   ]
  },
  {
   "cell_type": "code",
   "execution_count": 101,
   "metadata": {
    "collapsed": true
   },
   "outputs": [],
   "source": [
    "completedf1 = pd.concat([pd.read_csv('0204plays.csv'),pd.read_csv('0507plays.csv'),pd.read_csv('0810plays.csv'),pd.read_csv('1114plays.csv')])\n",
    "completedf = completedf1[completedf1['year']>2002].reset_index(drop=True)\n",
    "\n",
    "# define number of plays in df\n",
    "plays = len(completedf)"
   ]
  }
 ],
 "metadata": {
  "kernelspec": {
   "display_name": "Python 2",
   "language": "python",
   "name": "python2"
  },
  "language_info": {
   "codemirror_mode": {
    "name": "ipython",
    "version": 2
   },
   "file_extension": ".py",
   "mimetype": "text/x-python",
   "name": "python",
   "nbconvert_exporter": "python",
   "pygments_lexer": "ipython2",
   "version": "2.7.10"
  }
 },
 "nbformat": 4,
 "nbformat_minor": 0
}
