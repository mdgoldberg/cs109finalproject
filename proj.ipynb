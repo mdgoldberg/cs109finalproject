{
 "cells": [
  {
   "cell_type": "code",
   "execution_count": 66,
   "metadata": {
    "collapsed": false
   },
   "outputs": [],
   "source": [
    "#Imports\n",
    "%matplotlib inline\n",
    "import numpy as np\n",
    "import scipy as sp\n",
    "import matplotlib as mpl\n",
    "import matplotlib.cm as cm\n",
    "import matplotlib.pyplot as plt\n",
    "import pandas as pd\n",
    "pd.set_option('display.width', 500)\n",
    "pd.set_option('display.max_columns', 100)\n",
    "pd.set_option('display.notebook_repr_html', True)\n",
    "import seaborn as sns\n",
    "sns.set_style(\"whitegrid\")\n",
    "sns.set_context(\"poster\")\n",
    "import copy\n",
    "import pfr\n",
    "import time"
   ]
  },
  {
   "cell_type": "code",
   "execution_count": 72,
   "metadata": {
    "collapsed": false
   },
   "outputs": [],
   "source": [
    "# merge all of the raw data that was stored in individual csvs for each year\n",
    "# (we will use 2003-2014 for modeling, with 2002 providing additional information)\n",
    "years = [2002,2003,2004,2005,2006,2007,2008,2009,2010,2011,2012,2013,2014]\n",
    "years= [str(i) for i in years]\n",
    "data={}\n",
    "\n",
    "for i in years:\n",
    "    data[i] = pd.read_csv(i+'plays.csv')\n",
    "    data[i]['year'] = int(i)\n",
    "\n",
    "fulldf = pd.concat(data.values())\n",
    "del fulldf['Unnamed: 0']\n",
    "fulldf = fulldf.reset_index(drop=True)\n",
    "fullplays = len(fulldf)"
   ]
  },
  {
   "cell_type": "code",
   "execution_count": null,
   "metadata": {
    "collapsed": false
   },
   "outputs": [],
   "source": [
    "# create columns for half and if the team with the ball is the home team, as well as time left in half\n",
    "fulldf['is1stHalf'] = fulldf['quarter'] < 3\n",
    "fulldf['is2ndHalf'] = (fulldf['quarter'] > 2) & (fulldf['quarter'] < 5)\n",
    "fulldf['half'] = 2 - (fulldf['is1stHalf'])\n",
    "for i,row in fulldf.iterrows():\n",
    "    if row['quarter'] == 5:\n",
    "        fulldf.loc[i,'half'] = 'OT'\n",
    "\n",
    "fulldf['isHome'] = fulldf['tm'] == fulldf['home']\n",
    "fulldf['secsElapsedInHalf'] = np.remainder(fulldf['secsElapsedInGame'],1800)\n",
    "fulldf['isLast3minHalf'] = fulldf['secsElapsedInHalf'] >= 1620"
   ]
  },
  {
   "cell_type": "code",
   "execution_count": null,
   "metadata": {
    "collapsed": false
   },
   "outputs": [],
   "source": [
    "# create columns for home and away timeouts remaining in the half; each team starts with 3 at each half (2 in overtime)\n",
    "def TO(df):\n",
    "    if df['half'] == 'OT':\n",
    "        return 2\n",
    "    else:\n",
    "        return 3\n",
    "\n",
    "fulldf['hm_TO_left'] = fulldf.apply(TO,axis=1)\n",
    "fulldf['aw_TO_left'] = fulldf.apply(TO,axis=1)\n",
    "\n",
    "for i in range(1,fullplays):\n",
    "    if (fulldf.loc[i-1,'bsID'] == fulldf.loc[i,'bsID']) & (fulldf.loc[i-1,'half'] == fulldf.loc[i,'half']):\n",
    "        if fulldf.loc[i-1,'isTimeout']:\n",
    "            if fulldf.loc[i-1,'timeoutTeam'] == fulldf.loc[i-1,'home']:\n",
    "                fulldf.loc[i,'hm_TO_left'] = fulldf.loc[i-1,'hm_TO_left'] - 1\n",
    "                fulldf.loc[i,'aw_TO_left'] = fulldf.loc[i-1,'aw_TO_left']\n",
    "            elif fulldf.loc[i-1,'timeoutTeam'] == fulldf.loc[i-1,'away']:\n",
    "                fulldf.loc[i,'aw_TO_left'] = fulldf.loc[i-1,'aw_TO_left'] - 1\n",
    "                fulldf.loc[i,'hm_TO_left'] = fulldf.loc[i-1,'hm_TO_left']\n",
    "        else:\n",
    "            fulldf.loc[i,'hm_TO_left'] = fulldf.loc[i-1,'hm_TO_left']\n",
    "            fulldf.loc[i,'aw_TO_left'] = fulldf.loc[i-1,'aw_TO_left']"
   ]
  },
  {
   "cell_type": "code",
   "execution_count": null,
   "metadata": {
    "collapsed": false
   },
   "outputs": [],
   "source": [
    "# only keeep run and pass plays from fulldf in the dataframe df\n",
    "dfrunpass = fulldf[(fulldf['isPass']== True) | (fulldf['isRun'] == True)]\n",
    "df1 = dfrunpass.reset_index(drop=True)\n",
    "\n",
    "# save all team names except NaN values\n",
    "tms = df1.tm.unique()[:-1]\n",
    "\n",
    "# delete rows that have NaN value in team (due to pro-reference site error)\n",
    "df = df1[df1.tm.isin(tms)].reset_index(drop=True)\n",
    "\n",
    "# get rid of 2-point conversions (no real need to predict, small sample) and plays where the team with the ball is unknown (rare)\n",
    "df = df[~np.isnan(df.down)].reset_index(drop=True)"
   ]
  },
  {
   "cell_type": "code",
   "execution_count": null,
   "metadata": {
    "collapsed": false
   },
   "outputs": [],
   "source": [
    "# Create feature columns based on given home/away information (tm = team with ball, opp = opponent)\n",
    "def tmscore(df):\n",
    "    if df['isHome']:\n",
    "        sc = df['pbp_score_hm']\n",
    "        if df['isTD']:\n",
    "            sc = sc - 6\n",
    "    else:\n",
    "        sc = df['pbp_score_aw']\n",
    "        if df['isTD']:\n",
    "            sc = sc - 6\n",
    "    return sc\n",
    "    \n",
    "def oppscore(df):\n",
    "    if df['isHome']:\n",
    "        return df['pbp_score_aw']\n",
    "    else:\n",
    "        return df['pbp_score_hm']\n",
    "    \n",
    "def tmwinprob(df):\n",
    "    if df['isHome']:\n",
    "        return df['home_wp']\n",
    "    else:\n",
    "        return 100.0 - df['home_wp']\n",
    "    \n",
    "def tmTOleft(df):\n",
    "    if df['isHome']:\n",
    "        return df['hm_TO_left']\n",
    "    else:\n",
    "        return df['aw_TO_left']\n",
    "    \n",
    "def oppTOleft(df):\n",
    "    if df['isHome']:\n",
    "        return df['aw_TO_left']\n",
    "    else:\n",
    "        return df['hm_TO_left']\n",
    "\n",
    "df['tm_score'] = df.apply(tmscore,axis=1)\n",
    "df['opp_score'] = df.apply(oppscore,axis=1)\n",
    "df['tm_winprob'] = df.apply(tmwinprob,axis=1)\n",
    "df['tm_TO_left'] = df.apply(tmTOleft,axis=1)\n",
    "df['opp_TO_left'] = df.apply(oppTOleft,axis=1)\n",
    "\n",
    "# create scoring marging column (team with ball - opponent) and additive scoring value\n",
    "df['margin'] = df['tm_score'] - df['opp_score']\n",
    "df['addscore'] = df['tm_score'] + df['opp_score']\n",
    "\n",
    "# indicators if the team with the ball is in FG Range and/or RedZone\n",
    "df['isFGRange'] = df['distToGoal'] <= 38\n",
    "df['isRedZone'] = df['distToGoal'] <= 20"
   ]
  },
  {
   "cell_type": "code",
   "execution_count": null,
   "metadata": {
    "collapsed": true
   },
   "outputs": [],
   "source": [
    "# create distance to go groupings\n",
    "def dist1(y):\n",
    "    if y < 4:\n",
    "        return 'short'\n",
    "    elif y < 8:\n",
    "        return 'medium'\n",
    "    elif y < 12:\n",
    "        return 'long'\n",
    "    else:\n",
    "        return 'very long'"
   ]
  },
  {
   "cell_type": "code",
   "execution_count": null,
   "metadata": {
    "collapsed": true
   },
   "outputs": [],
   "source": [
    "# create column for distance to go group, another column that concatenates year and team\n",
    "# and another that concatenates year, team, down, and distance grouping\n",
    "df['dist_to_1st'] = [dist1(yd) for yd in df.yds_to_go.values]\n",
    "df['yeartm'] = [str(yr) + str(t) for yr,t in zip(df['year'],df['tm'])]\n",
    "df['yeartmdowndist_to_1st'] = [str(yr) + str(t) + str(d) + str(d1) for yr,t,d,d1 in zip(df['year'],df['tm'],df['down'],df['dist_to_1st'])]\n",
    "\n",
    "# create pass pct (generally) for each team and year\n",
    "passpct = (df.groupby('yeartm')['isPass'].mean())\n",
    "\n",
    "# create pass pct by down and distance grouping for each team and year\n",
    "ddpasspct = (df.groupby('yeartmdowndist_to_1st')['isPass'].mean())"
   ]
  },
  {
   "cell_type": "code",
   "execution_count": null,
   "metadata": {
    "collapsed": false
   },
   "outputs": [],
   "source": [
    "# create list with concatenated values for lookup of pass pct\n",
    "lastyeartmdowndist_to_1st = [str(yr-1) + str(t) + str(d) + str(d1) for yr,t,d,d1 in zip(df['year'],df['tm'],df['down'],df['dist_to_1st'])]\n",
    "\n",
    "# define function to get prior year pass pct\n",
    "def getpass(p):\n",
    "    # try to get the previous year's pass pct by down and dist grouping\n",
    "    try:\n",
    "        return ddpasspct[p]\n",
    "    \n",
    "    # if the grouping does not exist for the previous year for that team, then take that team's overall pass pct\n",
    "    except KeyError:\n",
    "        return passpct[p[:7]]\n",
    "\n",
    "# create pass pct by down and distance grouping for each team lagged by one season (take last season's pct, no priors for 2002)\n",
    "nanval = len(df[df.year==2002])\n",
    "prevp = [np.nan for i in xrange(nanval)]\n",
    "prevp.extend([getpass(passp) for passp in lastyeartmdowndist_to_1st[nanval:]])\n",
    "df['tm_prev_yr_pass'] = prevp\n",
    "\n",
    "##### Below, when referring to pass pct, we do not refer to \"by down and distance\", and in fact are only referring to a team's\n",
    "# overall pass pct, regardless of down and distance grouping, because the variable in this cell is granular, due to the \n",
    "# amount of data available at the full season (lagged) level, whereas data within season or games is less granular,\n",
    "# due to the lesser amount of data available #####"
   ]
  },
  {
   "cell_type": "code",
   "execution_count": null,
   "metadata": {
    "collapsed": true
   },
   "outputs": [],
   "source": [
    "dates = df.bsID.apply(lambda bID: pfr.boxscores.BoxScore(bID).date())\n",
    "years, months, days = zip(*((d.year, d.month, d.day) for d in dates))\n",
    "df['month'] = months\n",
    "df['day'] = days\n",
    "df = df.sort_values(['tm', 'year', 'month', 'day', 'secsElapsedInGame'],ascending=True)\n",
    "\n",
    "# add gameNum column\n",
    "tmgb = df.groupby('tm')\n",
    "for tm, tmdf in tmgb:\n",
    "    bsIDsInOrder = tmdf.bsID.unique()\n",
    "    for i, bs in enumerate(bsIDsInOrder):\n",
    "        df.loc[df.bsID == bs, 'gameNum'] = i+1"
   ]
  },
  {
   "cell_type": "code",
   "execution_count": null,
   "metadata": {
    "collapsed": true
   },
   "outputs": [],
   "source": [
    "def inSeasonPassPct(row, df):\n",
    "    thisSeason = df[df.year == row.year]\n",
    "    \n",
    "    # get previous year's pass pct if it is the first game of the season for the team\n",
    "    if row.gameNum == 1:\n",
    "        return passpct[str(row.year) + str(row.tm)]\n",
    "    \n",
    "    # otherwise get the pass pct for the team in games before current game\n",
    "    else:\n",
    "        prevGames = thisSeason[(thisSeason.tm == row.tm) & (thisSeason.gameNum < row.gameNum)]\n",
    "        return prevGames.isPass.mean()\n",
    "\n",
    "\n",
    "def inGamePassPct(row, df):\n",
    "    firstTime = df.loc[(df.tm == row.tm) & (df.bsID == row.bsID), 'secsElapsedInGame'].iloc[0]\n",
    "    thisGame = df[df.bsID == row.bsID]\n",
    "    \n",
    "    # use in-season pass pct for the first play in a game\n",
    "    if row.secsElapsedInGame == firstTime:\n",
    "        return inSeasonPassPct(row, df)\n",
    "    \n",
    "    # get in-game pass pct\n",
    "    else:\n",
    "        inGame = thisGame[(thisGame.tm == row.tm) & (thisGame.secsElapsedInGame < row.secsElapsedInGame)]\n",
    "        return inGame.isPass.mean()"
   ]
  },
  {
   "cell_type": "code",
   "execution_count": null,
   "metadata": {
    "collapsed": true
   },
   "outputs": [],
   "source": [
    "# create prior pass pct for each team in current season (taking into account all games before the current one)\n",
    "# if it is week one, then use the prior pass pct for each team from the season before (the full season value)\n",
    "df['tm_in_season_pass'] = df.apply(inSeasonPassPct, args=(df,), axis=1)\n",
    "\n",
    "# create pass pct for each team within current game (taking into account all plays before the current one)\n",
    "# if it is the first play, then use the prior pass pct for that team from the game before (the full game value),\n",
    "# unless it is week one, then use the pass pct for the team from the season before (the full season value)\n",
    "df['tm_in_game_pass'] = df.apply(inGamePassPct, args=(df,), axis=1)"
   ]
  },
  {
   "cell_type": "code",
   "execution_count": null,
   "metadata": {
    "collapsed": true
   },
   "outputs": [],
   "source": [
    "# define number of plays in df, which is now our finalized dataset with all variables (for set-up)\n",
    "plays = len(df)\n",
    "\n",
    "# download all merged data as 2 csvs for everyone to have (remove 2002, because it has served it's purpose of creating 2003 priors)\n",
    "df[(df['year']<2009) & (df['year']>2002)].to_csv('0308plays.csv', index=False, encoding = 'utf-8')\n",
    "df[df['year']>2008].to_csv('0914plays.csv', index=False, encoding = 'utf-8')"
   ]
  },
  {
   "cell_type": "code",
   "execution_count": null,
   "metadata": {
    "collapsed": true
   },
   "outputs": [],
   "source": [
    "# reupload all data to have as one dataset again\n",
    "df = pd.concat([pd.read_csv('0308plays.csv'),pd.read_csv('0914plays.csv')])\n",
    "df = df.reset_index(drop=True)"
   ]
  }
 ],
 "metadata": {
  "kernelspec": {
   "display_name": "Python 2",
   "language": "python",
   "name": "python2"
  },
  "language_info": {
   "codemirror_mode": {
    "name": "ipython",
    "version": 2
   },
   "file_extension": ".py",
   "mimetype": "text/x-python",
   "name": "python",
   "nbconvert_exporter": "python",
   "pygments_lexer": "ipython2",
   "version": "2.7.10"
  }
 },
 "nbformat": 4,
 "nbformat_minor": 0
}
