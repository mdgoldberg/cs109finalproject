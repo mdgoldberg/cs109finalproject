{
 "cells": [
  {
   "cell_type": "code",
   "execution_count": 1,
   "metadata": {
    "collapsed": true
   },
   "outputs": [],
   "source": [
    "#Imports\n",
    "%matplotlib inline\n",
    "import numpy as np\n",
    "import scipy as sp\n",
    "import matplotlib as mpl\n",
    "import matplotlib.cm as cm\n",
    "import matplotlib.pyplot as plt\n",
    "import pandas as pd\n",
    "pd.set_option('display.width', 500)\n",
    "pd.set_option('display.max_columns', 100)\n",
    "pd.set_option('display.notebook_repr_html', True)\n",
    "import seaborn as sns\n",
    "sns.set_style(\"whitegrid\")\n",
    "sns.set_context(\"poster\")"
   ]
  },
  {
   "cell_type": "code",
   "execution_count": 14,
   "metadata": {
    "collapsed": false
   },
   "outputs": [],
   "source": [
    "#Merging data\n",
    "years = [2002,2003,2004,2005,2006,2007,2008,2009,2010,2011,2012,2013,2014]\n",
    "years= [str(i) for i in years]\n",
    "data={}\n",
    "\n",
    "for i in years:\n",
    "    data[i] = pd.read_csv(i+'plays.csv')\n",
    "    data[i]['year'] = int(i)\n",
    "\n",
    "fulldf = pd.concat(data.values())\n",
    "fullplays = len(fulldf)"
   ]
  },
  {
   "cell_type": "code",
   "execution_count": null,
   "metadata": {
    "collapsed": true
   },
   "outputs": [],
   "source": [
    "# create columns for half and if the team with the ball is the home team\n",
    "fulldf['is1stHalf'] = fulldf['quarter'] < 3\n",
    "fulldf['half'] = 2 - (fulldf['is1stHalf'])\n",
    "fulldf['isHome'] = fulldf['tm'] == fulldf['home']\n",
    "\n",
    "# create columns for home and away timeouts remaining in the half\n",
    "for x in ['hm_TO_left','aw_TO_left']:\n",
    "    fulldf[x] = [3 for i in xrange(fullplays)]\n",
    "    \n",
    "for i,row in fulldf.iterrows():\n",
    "    if row['isTimeout'] == True:\n",
    "        r = fulldf[(fulldf['bsID']==row['bsID']) & (fulldf['half']==row['half'])]\n",
    "        l = range(i+1,r.index[-1])\n",
    "        if row['timeoutTeam'] == row['home']:\n",
    "            fulldf.loc[l,'hm_TO_left'] = r.loc[l,'hm_TO_left'] - 1\n",
    "        else:\n",
    "            fulldf.loc[l,'aw_TO_left'] = r.loc[l,'aw_TO_left'] - 1"
   ]
  },
  {
   "cell_type": "code",
   "execution_count": null,
   "metadata": {
    "collapsed": true
   },
   "outputs": [],
   "source": [
    "# only keeep run and pass plays from fulldf in the dataframe df\n",
    "df = fulldf.loc[(fulldf['isPass']== True) | (fulldf['isRun'] == True)]\n",
    "\n",
    "# Create feature columns based on given home/away information (tm = team with ball, opp = opponent)\n",
    "plays = len(df)\n",
    "for x in ['tm_score','opp_score','tm_winprob','tm_TO_left','opp_TO_left']:\n",
    "    df[x] = [0 for i in xrange(plays)]\n",
    "    \n",
    "for i,row in fulldf.iterrows():\n",
    "    if row['isHome']:\n",
    "        df.loc[i,'tm_score'] = row['pbp_score_hm']\n",
    "        df.loc[i,'opp_score'] = row['pbp_score_aw']\n",
    "        df.loc[i,'tm_winprob'] = row['home_wp']\n",
    "        df.loc[i,'tm_TO_left'] = row['hm_TO_left']\n",
    "        df.loc[i,'opp_TO_left'] = row['aw_TO_left']\n",
    "    else:\n",
    "        df.loc[i,'tm_score'] = row.loc['pbp_score_aw']\n",
    "        df.loc[i,'opp_score'] = row['pbp_score_hm']\n",
    "        df.loc[i,'tm_winprob'] = 100.0 - row['home_wp']\n",
    "        df.loc[i,'tm_TO_left'] = row['aw_TO_left']\n",
    "        df.loc[i,'opp_TO_left'] = row['hm_TO_left']\n",
    "\n",
    "# create scoring marging column (team with ball - opponent) and indicators if the team with the ball is in FG Range and/or RedZone\n",
    "df['margin'] = df['tm_score'] - df['opp_score']\n",
    "df['isFGRange'] = df['distToGoal'] <= 38\n",
    "df['isRedZone'] = df['distToGoal'] <= 20"
   ]
  }
 ],
 "metadata": {
  "kernelspec": {
   "display_name": "Python 2",
   "language": "python",
   "name": "python2"
  },
  "language_info": {
   "codemirror_mode": {
    "name": "ipython",
    "version": 2
   },
   "file_extension": ".py",
   "mimetype": "text/x-python",
   "name": "python",
   "nbconvert_exporter": "python",
   "pygments_lexer": "ipython2",
   "version": "2.7.10"
  }
 },
 "nbformat": 4,
 "nbformat_minor": 0
}
