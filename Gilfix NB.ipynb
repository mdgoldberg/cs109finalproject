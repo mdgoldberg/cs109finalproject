{
 "cells": [
  {
   "cell_type": "code",
   "execution_count": 36,
   "metadata": {
    "collapsed": true
   },
   "outputs": [],
   "source": [
    "#Imports\n",
    "%matplotlib inline\n",
    "import numpy as np\n",
    "import scipy as sp\n",
    "import matplotlib as mpl\n",
    "import matplotlib.cm as cm\n",
    "import matplotlib.pyplot as plt\n",
    "import pandas as pd\n",
    "pd.set_option('display.width', 500)\n",
    "pd.set_option('display.max_columns', 100)\n",
    "pd.set_option('display.notebook_repr_html', True)\n",
    "import seaborn as sns\n",
    "sns.set_style(\"whitegrid\")\n",
    "sns.set_context(\"poster\")\n",
    "from sklearn.cross_validation import train_test_split"
   ]
  },
  {
   "cell_type": "code",
   "execution_count": 21,
   "metadata": {
    "collapsed": false
   },
   "outputs": [],
   "source": [
    "#Merging data\n",
    "years = [2014]\n",
    "years= [str(i) for i in years]\n",
    "data={}\n",
    "\n",
    "for i in years:\n",
    "    data[i] = pd.read_csv(i+'plays.csv')\n",
    "    data[i]['year'] = int(i)\n",
    "\n",
    "fulldf = pd.concat(data.values())\n",
    "fulldf = fulldf.reset_index(drop=True)\n",
    "fullplays = len(fulldf)"
   ]
  },
  {
   "cell_type": "code",
   "execution_count": 22,
   "metadata": {
    "collapsed": false
   },
   "outputs": [],
   "source": [
    "# create columns for half and if the team with the ball is the home team, as well as time left in half\n",
    "fulldf['is1stHalf'] = fulldf['quarter'] < 3\n",
    "fulldf['is2ndHalf'] = (fulldf['quarter'] > 2) & (fulldf['quarter'] < 5)\n",
    "fulldf['half'] = 2 - (fulldf['is1stHalf'])\n",
    "for i,row in fulldf.iterrows():\n",
    "    if row['quarter'] == 5:\n",
    "        fulldf.loc[i,'half'] = 'OT'\n",
    "\n",
    "fulldf['isHome'] = fulldf['tm'] == fulldf['home']\n",
    "fulldf['secsElapsedInHalf'] = np.remainder(fulldf['secsElapsedInGame'],1800)\n",
    "fulldf['isLast3minHalf'] = fulldf['secsElapsedInHalf'] >= 1620"
   ]
  },
  {
   "cell_type": "code",
   "execution_count": 23,
   "metadata": {
    "collapsed": false
   },
   "outputs": [],
   "source": [
    "# create columns for home and away timeouts remaining in the half\n",
    "for x in ['hm_TO_left','aw_TO_left']:\n",
    "    fulldf[x] = [3 for i in xrange(fullplays)]\n",
    "for i,row in fulldf.iterrows():\n",
    "    if row['half'] == 'OT':\n",
    "        fulldf.loc[i,'hm_TO_left'] = 2\n",
    "        fulldf.loc[i,'aw_TO_left'] = 2\n",
    "    \n",
    "for i,row in fulldf.iterrows():\n",
    "    if row['isTimeout']:\n",
    "        r = fulldf[(fulldf['bsID']==row['bsID']) & (fulldf['half']==row['half'])]\n",
    "        l = range(i+1,r.index[-1])\n",
    "        if row['timeoutTeam'] == row['home']:\n",
    "            fulldf.loc[l,'hm_TO_left'] = r.loc[l,'hm_TO_left'] - 1\n",
    "        elif row['timeoutTeam'] == row['away']:\n",
    "            fulldf.loc[l,'aw_TO_left'] = r.loc[l,'aw_TO_left'] - 1"
   ]
  },
  {
   "cell_type": "code",
   "execution_count": 24,
   "metadata": {
    "collapsed": false
   },
   "outputs": [],
   "source": [
    "# only keeep run and pass plays from fulldf in the dataframe df\n",
    "dfrunpass = fulldf[(fulldf['isPass']== True) | (fulldf['isRun'] == True)]\n",
    "df = dfrunpass.reset_index(drop=True)"
   ]
  },
  {
   "cell_type": "code",
   "execution_count": 25,
   "metadata": {
    "collapsed": true
   },
   "outputs": [],
   "source": [
    "# Create feature columns based on given home/away information (tm = team with ball, opp = opponent)\n",
    "plays = len(df)\n",
    "for x in ['tm_score','opp_score','tm_winprob','tm_TO_left','opp_TO_left']:\n",
    "    df[x] = [0 for i in xrange(plays)]\n",
    "    \n",
    "for i,row in df.iterrows():\n",
    "    if row['isHome']:\n",
    "        df.loc[i,'tm_score'] = row['pbp_score_hm']\n",
    "        df.loc[i,'opp_score'] = row['pbp_score_aw']\n",
    "        df.loc[i,'tm_winprob'] = row['home_wp']\n",
    "        df.loc[i,'tm_TO_left'] = row['hm_TO_left']\n",
    "        df.loc[i,'opp_TO_left'] = row['aw_TO_left']\n",
    "    else:\n",
    "        df.loc[i,'tm_score'] = row['pbp_score_aw']\n",
    "        df.loc[i,'opp_score'] = row['pbp_score_hm']\n",
    "        df.loc[i,'tm_winprob'] = 100.0 - row['home_wp']\n",
    "        df.loc[i,'tm_TO_left'] = row['aw_TO_left']\n",
    "        df.loc[i,'opp_TO_left'] = row['hm_TO_left']\n",
    "\n",
    "# create scoring marging column (team with ball - opponent) and indicators if the team with the ball is in FG Range and/or RedZone\n",
    "df['margin'] = df['tm_score'] - df['opp_score']\n",
    "df['isFGRange'] = df['distToGoal'] <= 38\n",
    "df['isRedZone'] = df['distToGoal'] <= 20"
   ]
  },
  {
   "cell_type": "code",
   "execution_count": 153,
   "metadata": {
    "collapsed": false,
    "scrolled": true
   },
   "outputs": [],
   "source": [
    "df = df[~np.isnan(df.down)].reset_index(drop=True)\n",
    "df[df['year']<2009].to_csv('0208plays.csv', index=False, encoding = 'utf-8')\n",
    "df[df['year']>2008].to_csv('0914plays.csv', index=False, encoding = 'utf-8')"
   ]
  },
  {
   "cell_type": "code",
   "execution_count": 154,
   "metadata": {
    "collapsed": false
   },
   "outputs": [],
   "source": [
    "df = pd.concat([pd.read_csv('0208plays.csv'),pd.read_csv('0914plays.csv')])"
   ]
  },
  {
   "cell_type": "code",
   "execution_count": 155,
   "metadata": {
    "collapsed": true
   },
   "outputs": [],
   "source": [
    "tms = ['pit', 'cle', 'mia', 'kan', 'sdg', 'stl', 'ari', 'min', 'buf',\n",
    "       'det', 'nor', 'jax', 'cin', 'bal', 'tam', 'ind', 'hou', 'oak',\n",
    "       'phi', 'gnb', 'ten', 'nyj', 'dal', 'sfo', 'was', 'atl', 'nyg',\n",
    "       'chi', 'den', 'sea', 'car', 'nwe']\n",
    "df = df[df.tm.isin(tms)].reset_index(drop=True)"
   ]
  },
  {
   "cell_type": "code",
   "execution_count": 156,
   "metadata": {
    "collapsed": false,
    "scrolled": true
   },
   "outputs": [
    {
     "data": {
      "text/plain": [
       "(33790, 127)"
      ]
     },
     "execution_count": 156,
     "metadata": {},
     "output_type": "execute_result"
    }
   ],
   "source": [
    "df.shape"
   ]
  },
  {
   "cell_type": "code",
   "execution_count": 157,
   "metadata": {
    "collapsed": false
   },
   "outputs": [
    {
     "data": {
      "text/html": [
       "<div>\n",
       "<table border=\"1\" class=\"dataframe\">\n",
       "  <thead>\n",
       "    <tr style=\"text-align: right;\">\n",
       "      <th></th>\n",
       "      <th>away</th>\n",
       "      <th>bsID</th>\n",
       "      <th>challengeUpheld</th>\n",
       "      <th>challenger</th>\n",
       "      <th>detail</th>\n",
       "      <th>distToGoal</th>\n",
       "      <th>down</th>\n",
       "      <th>exp_pts_after</th>\n",
       "      <th>exp_pts_before</th>\n",
       "      <th>fairCatcher</th>\n",
       "      <th>fgBlockRecoverer</th>\n",
       "      <th>fgBlockRetYds</th>\n",
       "      <th>fgBlocker</th>\n",
       "      <th>fgDist</th>\n",
       "      <th>fgGood</th>\n",
       "      <th>fgKicker</th>\n",
       "      <th>fieldside</th>\n",
       "      <th>fumbForcer</th>\n",
       "      <th>fumbRecFieldside</th>\n",
       "      <th>fumbRecYdLine</th>\n",
       "      <th>fumbRecoverer</th>\n",
       "      <th>fumbRetYds</th>\n",
       "      <th>fumbler</th>\n",
       "      <th>home</th>\n",
       "      <th>home_wp</th>\n",
       "      <th>intFieldside</th>\n",
       "      <th>intRetYds</th>\n",
       "      <th>intYdLine</th>\n",
       "      <th>interceptor</th>\n",
       "      <th>isBlocked</th>\n",
       "      <th>isChallenged</th>\n",
       "      <th>isComplete</th>\n",
       "      <th>isFairCatch</th>\n",
       "      <th>isFieldGoal</th>\n",
       "      <th>isFumble</th>\n",
       "      <th>isInt</th>\n",
       "      <th>isKickoff</th>\n",
       "      <th>isKneel</th>\n",
       "      <th>isLateral</th>\n",
       "      <th>isMuffedCatch</th>\n",
       "      <th>isPass</th>\n",
       "      <th>isPenalty</th>\n",
       "      <th>isPresnapPenalty</th>\n",
       "      <th>isPunt</th>\n",
       "      <th>isRun</th>\n",
       "      <th>isSpike</th>\n",
       "      <th>isTD</th>\n",
       "      <th>isTimeout</th>\n",
       "      <th>isTouchback</th>\n",
       "      <th>isTwoPoint</th>\n",
       "      <th>...</th>\n",
       "      <th>punter</th>\n",
       "      <th>qtr_time_remain</th>\n",
       "      <th>quarter</th>\n",
       "      <th>rushDir</th>\n",
       "      <th>rusher</th>\n",
       "      <th>sackYds</th>\n",
       "      <th>sacker1</th>\n",
       "      <th>sacker2</th>\n",
       "      <th>secsElapsedInGame</th>\n",
       "      <th>spikeQB</th>\n",
       "      <th>tackler1</th>\n",
       "      <th>tackler2</th>\n",
       "      <th>target</th>\n",
       "      <th>timeoutNum</th>\n",
       "      <th>timeoutTeam</th>\n",
       "      <th>tm</th>\n",
       "      <th>twoPointSuccess</th>\n",
       "      <th>xpGood</th>\n",
       "      <th>xpKicker</th>\n",
       "      <th>ydLine</th>\n",
       "      <th>yds</th>\n",
       "      <th>yds_to_go</th>\n",
       "      <th>year</th>\n",
       "      <th>is1stHalf</th>\n",
       "      <th>is2ndHalf</th>\n",
       "      <th>half</th>\n",
       "      <th>isHome</th>\n",
       "      <th>secsElapsedInHalf</th>\n",
       "      <th>isLast3minHalf</th>\n",
       "      <th>hm_TO_left</th>\n",
       "      <th>aw_TO_left</th>\n",
       "      <th>tm_score</th>\n",
       "      <th>opp_score</th>\n",
       "      <th>tm_winprob</th>\n",
       "      <th>tm_TO_left</th>\n",
       "      <th>opp_TO_left</th>\n",
       "      <th>margin</th>\n",
       "      <th>isFGRange</th>\n",
       "      <th>isRedZone</th>\n",
       "      <th>RESP</th>\n",
       "      <th>inFGRange</th>\n",
       "      <th>inRedZone</th>\n",
       "      <th>inLast3minHalf</th>\n",
       "      <th>inDown1</th>\n",
       "      <th>inDown2</th>\n",
       "      <th>inDown3</th>\n",
       "      <th>inQuarter1</th>\n",
       "      <th>inQuarter2</th>\n",
       "      <th>inQuarter3</th>\n",
       "      <th>inQuarter4</th>\n",
       "    </tr>\n",
       "  </thead>\n",
       "  <tbody>\n",
       "    <tr>\n",
       "      <th>0</th>\n",
       "      <td>pit</td>\n",
       "      <td>201410120cle</td>\n",
       "      <td>False</td>\n",
       "      <td>NaN</td>\n",
       "      <td>RoetBe00 pass complete short right to WheaMa00...</td>\n",
       "      <td>86</td>\n",
       "      <td>1</td>\n",
       "      <td>0.15</td>\n",
       "      <td>-0.28</td>\n",
       "      <td>NaN</td>\n",
       "      <td>NaN</td>\n",
       "      <td>NaN</td>\n",
       "      <td>NaN</td>\n",
       "      <td>NaN</td>\n",
       "      <td>False</td>\n",
       "      <td>NaN</td>\n",
       "      <td>pit</td>\n",
       "      <td>NaN</td>\n",
       "      <td>NaN</td>\n",
       "      <td>NaN</td>\n",
       "      <td>NaN</td>\n",
       "      <td>NaN</td>\n",
       "      <td>NaN</td>\n",
       "      <td>cle</td>\n",
       "      <td>54.0</td>\n",
       "      <td>NaN</td>\n",
       "      <td>NaN</td>\n",
       "      <td>NaN</td>\n",
       "      <td>NaN</td>\n",
       "      <td>False</td>\n",
       "      <td>False</td>\n",
       "      <td>True</td>\n",
       "      <td>False</td>\n",
       "      <td>False</td>\n",
       "      <td>False</td>\n",
       "      <td>False</td>\n",
       "      <td>False</td>\n",
       "      <td>False</td>\n",
       "      <td>False</td>\n",
       "      <td>False</td>\n",
       "      <td>True</td>\n",
       "      <td>False</td>\n",
       "      <td>False</td>\n",
       "      <td>False</td>\n",
       "      <td>False</td>\n",
       "      <td>False</td>\n",
       "      <td>False</td>\n",
       "      <td>False</td>\n",
       "      <td>False</td>\n",
       "      <td>False</td>\n",
       "      <td>...</td>\n",
       "      <td>NaN</td>\n",
       "      <td>14:56</td>\n",
       "      <td>1</td>\n",
       "      <td>NaN</td>\n",
       "      <td>NaN</td>\n",
       "      <td>NaN</td>\n",
       "      <td>NaN</td>\n",
       "      <td>NaN</td>\n",
       "      <td>4</td>\n",
       "      <td>NaN</td>\n",
       "      <td>SkriBu00</td>\n",
       "      <td>NaN</td>\n",
       "      <td>WheaMa00</td>\n",
       "      <td>NaN</td>\n",
       "      <td>NaN</td>\n",
       "      <td>pit</td>\n",
       "      <td>False</td>\n",
       "      <td>False</td>\n",
       "      <td>NaN</td>\n",
       "      <td>14</td>\n",
       "      <td>6</td>\n",
       "      <td>10</td>\n",
       "      <td>2014</td>\n",
       "      <td>True</td>\n",
       "      <td>False</td>\n",
       "      <td>1</td>\n",
       "      <td>False</td>\n",
       "      <td>4</td>\n",
       "      <td>False</td>\n",
       "      <td>3</td>\n",
       "      <td>3</td>\n",
       "      <td>0</td>\n",
       "      <td>0</td>\n",
       "      <td>46.0</td>\n",
       "      <td>3</td>\n",
       "      <td>3</td>\n",
       "      <td>0</td>\n",
       "      <td>False</td>\n",
       "      <td>False</td>\n",
       "      <td>1</td>\n",
       "      <td>0</td>\n",
       "      <td>0</td>\n",
       "      <td>0</td>\n",
       "      <td>1</td>\n",
       "      <td>0</td>\n",
       "      <td>0</td>\n",
       "      <td>1</td>\n",
       "      <td>0</td>\n",
       "      <td>0</td>\n",
       "      <td>0</td>\n",
       "    </tr>\n",
       "    <tr>\n",
       "      <th>1</th>\n",
       "      <td>pit</td>\n",
       "      <td>201410120cle</td>\n",
       "      <td>False</td>\n",
       "      <td>NaN</td>\n",
       "      <td>BellLe00 right guard for 3 yards (tackle by Ki...</td>\n",
       "      <td>80</td>\n",
       "      <td>2</td>\n",
       "      <td>-0.32</td>\n",
       "      <td>0.15</td>\n",
       "      <td>NaN</td>\n",
       "      <td>NaN</td>\n",
       "      <td>NaN</td>\n",
       "      <td>NaN</td>\n",
       "      <td>NaN</td>\n",
       "      <td>False</td>\n",
       "      <td>NaN</td>\n",
       "      <td>pit</td>\n",
       "      <td>NaN</td>\n",
       "      <td>NaN</td>\n",
       "      <td>NaN</td>\n",
       "      <td>NaN</td>\n",
       "      <td>NaN</td>\n",
       "      <td>NaN</td>\n",
       "      <td>cle</td>\n",
       "      <td>55.4</td>\n",
       "      <td>NaN</td>\n",
       "      <td>NaN</td>\n",
       "      <td>NaN</td>\n",
       "      <td>NaN</td>\n",
       "      <td>False</td>\n",
       "      <td>False</td>\n",
       "      <td>False</td>\n",
       "      <td>False</td>\n",
       "      <td>False</td>\n",
       "      <td>False</td>\n",
       "      <td>False</td>\n",
       "      <td>False</td>\n",
       "      <td>False</td>\n",
       "      <td>False</td>\n",
       "      <td>False</td>\n",
       "      <td>False</td>\n",
       "      <td>False</td>\n",
       "      <td>False</td>\n",
       "      <td>False</td>\n",
       "      <td>True</td>\n",
       "      <td>False</td>\n",
       "      <td>False</td>\n",
       "      <td>False</td>\n",
       "      <td>False</td>\n",
       "      <td>False</td>\n",
       "      <td>...</td>\n",
       "      <td>NaN</td>\n",
       "      <td>14:16</td>\n",
       "      <td>1</td>\n",
       "      <td>RG</td>\n",
       "      <td>BellLe00</td>\n",
       "      <td>NaN</td>\n",
       "      <td>NaN</td>\n",
       "      <td>NaN</td>\n",
       "      <td>44</td>\n",
       "      <td>NaN</td>\n",
       "      <td>KitcIs00</td>\n",
       "      <td>NaN</td>\n",
       "      <td>NaN</td>\n",
       "      <td>NaN</td>\n",
       "      <td>NaN</td>\n",
       "      <td>pit</td>\n",
       "      <td>False</td>\n",
       "      <td>False</td>\n",
       "      <td>NaN</td>\n",
       "      <td>20</td>\n",
       "      <td>3</td>\n",
       "      <td>4</td>\n",
       "      <td>2014</td>\n",
       "      <td>True</td>\n",
       "      <td>False</td>\n",
       "      <td>1</td>\n",
       "      <td>False</td>\n",
       "      <td>44</td>\n",
       "      <td>False</td>\n",
       "      <td>3</td>\n",
       "      <td>3</td>\n",
       "      <td>0</td>\n",
       "      <td>0</td>\n",
       "      <td>44.6</td>\n",
       "      <td>3</td>\n",
       "      <td>3</td>\n",
       "      <td>0</td>\n",
       "      <td>False</td>\n",
       "      <td>False</td>\n",
       "      <td>0</td>\n",
       "      <td>0</td>\n",
       "      <td>0</td>\n",
       "      <td>0</td>\n",
       "      <td>0</td>\n",
       "      <td>1</td>\n",
       "      <td>0</td>\n",
       "      <td>1</td>\n",
       "      <td>0</td>\n",
       "      <td>0</td>\n",
       "      <td>0</td>\n",
       "    </tr>\n",
       "  </tbody>\n",
       "</table>\n",
       "<p>2 rows × 127 columns</p>\n",
       "</div>"
      ],
      "text/plain": [
       "  away          bsID challengeUpheld challenger                                             detail  distToGoal  down  exp_pts_after  exp_pts_before  fairCatcher  fgBlockRecoverer  fgBlockRetYds  fgBlocker  fgDist fgGood  fgKicker fieldside fumbForcer fumbRecFieldside  fumbRecYdLine fumbRecoverer  fumbRetYds fumbler home  home_wp intFieldside  intRetYds  intYdLine interceptor isBlocked isChallenged isComplete isFairCatch isFieldGoal isFumble  isInt isKickoff isKneel isLateral isMuffedCatch  \\\n",
       "0  pit  201410120cle           False        NaN  RoetBe00 pass complete short right to WheaMa00...          86     1           0.15           -0.28          NaN               NaN            NaN        NaN     NaN  False       NaN       pit        NaN              NaN            NaN           NaN         NaN     NaN  cle     54.0          NaN        NaN        NaN         NaN     False        False       True       False       False    False  False     False   False     False         False   \n",
       "1  pit  201410120cle           False        NaN  BellLe00 right guard for 3 yards (tackle by Ki...          80     2          -0.32            0.15          NaN               NaN            NaN        NaN     NaN  False       NaN       pit        NaN              NaN            NaN           NaN         NaN     NaN  cle     55.4          NaN        NaN        NaN         NaN     False        False      False       False       False    False  False     False   False     False         False   \n",
       "\n",
       "  isPass isPenalty isPresnapPenalty isPunt  isRun isSpike   isTD isTimeout isTouchback isTwoPoint     ...     punter  qtr_time_remain  quarter  rushDir    rusher  sackYds sacker1  sacker2  secsElapsedInGame  spikeQB  tackler1 tackler2    target timeoutNum timeoutTeam   tm  twoPointSuccess xpGood xpKicker  ydLine yds  yds_to_go  year  is1stHalf  is2ndHalf  half  isHome  secsElapsedInHalf isLast3minHalf  hm_TO_left aw_TO_left tm_score  opp_score tm_winprob tm_TO_left  opp_TO_left  margin  \\\n",
       "0   True     False            False  False  False   False  False     False       False      False     ...        NaN            14:56        1      NaN       NaN      NaN     NaN      NaN                  4      NaN  SkriBu00      NaN  WheaMa00        NaN         NaN  pit            False  False      NaN      14   6         10  2014       True      False     1   False                  4          False           3          3        0          0       46.0          3            3       0   \n",
       "1  False     False            False  False   True   False  False     False       False      False     ...        NaN            14:16        1       RG  BellLe00      NaN     NaN      NaN                 44      NaN  KitcIs00      NaN       NaN        NaN         NaN  pit            False  False      NaN      20   3          4  2014       True      False     1   False                 44          False           3          3        0          0       44.6          3            3       0   \n",
       "\n",
       "  isFGRange isRedZone RESP  inFGRange  inRedZone inLast3minHalf inDown1 inDown2  inDown3  inQuarter1  inQuarter2  inQuarter3  inQuarter4  \n",
       "0     False     False    1          0          0              0       1       0        0           1           0           0           0  \n",
       "1     False     False    0          0          0              0       0       1        0           1           0           0           0  \n",
       "\n",
       "[2 rows x 127 columns]"
      ]
     },
     "execution_count": 157,
     "metadata": {},
     "output_type": "execute_result"
    }
   ],
   "source": [
    "df.head(2)"
   ]
  },
  {
   "cell_type": "code",
   "execution_count": 158,
   "metadata": {
    "collapsed": false,
    "scrolled": true
   },
   "outputs": [],
   "source": [
    "#Split into train and test\n",
    "itrain, itest = train_test_split(xrange(df.shape[0]), train_size=0.7)"
   ]
  },
  {
   "cell_type": "code",
   "execution_count": 159,
   "metadata": {
    "collapsed": false
   },
   "outputs": [],
   "source": [
    "mask=np.ones(df.shape[0], dtype='int')\n",
    "mask[itrain]=1\n",
    "mask[itest]=0\n",
    "mask = (mask==1)"
   ]
  },
  {
   "cell_type": "code",
   "execution_count": 160,
   "metadata": {
    "collapsed": false
   },
   "outputs": [
    {
     "data": {
      "text/plain": [
       "((33790,), 23653)"
      ]
     },
     "execution_count": 160,
     "metadata": {},
     "output_type": "execute_result"
    }
   ],
   "source": [
    "mask.shape, mask.sum()"
   ]
  },
  {
   "cell_type": "code",
   "execution_count": 161,
   "metadata": {
    "collapsed": false,
    "scrolled": true
   },
   "outputs": [
    {
     "data": {
      "text/plain": [
       "['away',\n",
       " 'bsID',\n",
       " 'challengeUpheld',\n",
       " 'challenger',\n",
       " 'detail',\n",
       " 'distToGoal',\n",
       " 'down',\n",
       " 'exp_pts_after',\n",
       " 'exp_pts_before',\n",
       " 'fairCatcher',\n",
       " 'fgBlockRecoverer',\n",
       " 'fgBlockRetYds',\n",
       " 'fgBlocker',\n",
       " 'fgDist',\n",
       " 'fgGood',\n",
       " 'fgKicker',\n",
       " 'fieldside',\n",
       " 'fumbForcer',\n",
       " 'fumbRecFieldside',\n",
       " 'fumbRecYdLine',\n",
       " 'fumbRecoverer',\n",
       " 'fumbRetYds',\n",
       " 'fumbler',\n",
       " 'home',\n",
       " 'home_wp',\n",
       " 'intFieldside',\n",
       " 'intRetYds',\n",
       " 'intYdLine',\n",
       " 'interceptor',\n",
       " 'isBlocked',\n",
       " 'isChallenged',\n",
       " 'isComplete',\n",
       " 'isFairCatch',\n",
       " 'isFieldGoal',\n",
       " 'isFumble',\n",
       " 'isInt',\n",
       " 'isKickoff',\n",
       " 'isKneel',\n",
       " 'isLateral',\n",
       " 'isMuffedCatch',\n",
       " 'isPass',\n",
       " 'isPenalty',\n",
       " 'isPresnapPenalty',\n",
       " 'isPunt',\n",
       " 'isRun',\n",
       " 'isSpike',\n",
       " 'isTD',\n",
       " 'isTimeout',\n",
       " 'isTouchback',\n",
       " 'isTwoPoint',\n",
       " 'isXP',\n",
       " 'kneelQB',\n",
       " 'koKicker',\n",
       " 'koRetYds',\n",
       " 'koReturner',\n",
       " 'koYds',\n",
       " 'location',\n",
       " 'muffRecoverer',\n",
       " 'muffRetYds',\n",
       " 'muffedBy',\n",
       " 'muffedCatch',\n",
       " 'oob',\n",
       " 'opp',\n",
       " 'passLoc',\n",
       " 'passer',\n",
       " 'pbp_score_aw',\n",
       " 'pbp_score_hm',\n",
       " 'penDeclined',\n",
       " 'penOn',\n",
       " 'penYds',\n",
       " 'penalty',\n",
       " 'puntBlockRecoverer',\n",
       " 'puntBlockRetYds',\n",
       " 'puntBlocker',\n",
       " 'puntRetYds',\n",
       " 'puntReturner',\n",
       " 'puntYds',\n",
       " 'punter',\n",
       " 'qtr_time_remain',\n",
       " 'quarter',\n",
       " 'rushDir',\n",
       " 'rusher',\n",
       " 'sackYds',\n",
       " 'sacker1',\n",
       " 'sacker2',\n",
       " 'secsElapsedInGame',\n",
       " 'spikeQB',\n",
       " 'tackler1',\n",
       " 'tackler2',\n",
       " 'target',\n",
       " 'timeoutNum',\n",
       " 'timeoutTeam',\n",
       " 'tm',\n",
       " 'twoPointSuccess',\n",
       " 'xpGood',\n",
       " 'xpKicker',\n",
       " 'ydLine',\n",
       " 'yds',\n",
       " 'yds_to_go',\n",
       " 'year',\n",
       " 'is1stHalf',\n",
       " 'is2ndHalf',\n",
       " 'half',\n",
       " 'isHome',\n",
       " 'secsElapsedInHalf',\n",
       " 'isLast3minHalf',\n",
       " 'hm_TO_left',\n",
       " 'aw_TO_left',\n",
       " 'tm_score',\n",
       " 'opp_score',\n",
       " 'tm_winprob',\n",
       " 'tm_TO_left',\n",
       " 'opp_TO_left',\n",
       " 'margin',\n",
       " 'isFGRange',\n",
       " 'isRedZone',\n",
       " 'RESP',\n",
       " 'inFGRange',\n",
       " 'inRedZone',\n",
       " 'inLast3minHalf',\n",
       " 'inDown1',\n",
       " 'inDown2',\n",
       " 'inDown3',\n",
       " 'inQuarter1',\n",
       " 'inQuarter2',\n",
       " 'inQuarter3',\n",
       " 'inQuarter4']"
      ]
     },
     "execution_count": 161,
     "metadata": {},
     "output_type": "execute_result"
    }
   ],
   "source": [
    "df.columns.tolist()"
   ]
  },
  {
   "cell_type": "code",
   "execution_count": 162,
   "metadata": {
    "collapsed": false
   },
   "outputs": [
    {
     "data": {
      "text/plain": [
       "array([ 1.,  2.,  3.,  4.,  5.])"
      ]
     },
     "execution_count": 162,
     "metadata": {},
     "output_type": "execute_result"
    }
   ],
   "source": [
    "df.quarter.unique()"
   ]
  },
  {
   "cell_type": "code",
   "execution_count": 218,
   "metadata": {
    "collapsed": false
   },
   "outputs": [],
   "source": [
    "df[\"RESP\"] = df[\"isPass\"]*1.0\n",
    "df[\"inFGRange\"] = df[\"isFGRange\"]*1.0\n",
    "df[\"inRedZone\"] = df[\"isRedZone\"]*1.0\n",
    "df[\"inLast3minHalf\"] = df[\"isLast3minHalf\"]*1.0\n",
    "df[\"inDown1\"] = (df[\"down\"] == 1.)*1.0\n",
    "df[\"inDown2\"] = (df[\"down\"] == 2.)*1.0\n",
    "df[\"inDown3\"] = (df[\"down\"] == 3.)*1.0\n",
    "df[\"inQuarter1\"] = (df[\"quarter\"] == 1.)*1.0\n",
    "df[\"inQuarter2\"] = (df[\"quarter\"] == 2.)*1.0\n",
    "df[\"inQuarter3\"] = (df[\"quarter\"] == 3.)*1.0\n",
    "df[\"inQuarter4\"] = (df[\"quarter\"] == 4.)*1.0\n",
    "lcols = ['distToGoal',\"inDown3\",\"inDown2\",\"inDown1\",'inQuarter4',\"inQuarter3\",\"inQuarter2\",\"inQuarter1\",'secsElapsedInHalf',\"margin\",\"yds_to_go\",\"tm_TO_left\",\"opp_TO_left\",\"inFGRange\", \"inRedZone\", \"tm_winprob\",\"inLast3minHalf\", \"tm_priorPass\"]"
   ]
  },
  {
   "cell_type": "code",
   "execution_count": 219,
   "metadata": {
    "collapsed": false
   },
   "outputs": [
    {
     "data": {
      "text/plain": [
       "array([1, 0])"
      ]
     },
     "execution_count": 219,
     "metadata": {},
     "output_type": "execute_result"
    }
   ],
   "source": [
    "df[[\"RESP\"]] = df[[\"RESP\"]].astype(int)\n",
    "df.RESP.unique()"
   ]
  },
  {
   "cell_type": "code",
   "execution_count": 186,
   "metadata": {
    "collapsed": true
   },
   "outputs": [],
   "source": [
    "from sklearn.svm import LinearSVC, SVC"
   ]
  },
  {
   "cell_type": "code",
   "execution_count": 178,
   "metadata": {
    "collapsed": true
   },
   "outputs": [],
   "source": [
    "clfsvm_lin=LinearSVC(loss=\"hinge\")\n",
    "Cs=[0.001, 0.01, 0.1, 1.0, 10.0, 100.0] # try fewer if doesnt finish up\n",
    "Xmatrix=df[lcols].values\n",
    "Yresp=df['RESP'].values"
   ]
  },
  {
   "cell_type": "code",
   "execution_count": 179,
   "metadata": {
    "collapsed": true
   },
   "outputs": [],
   "source": [
    "Xmatrix_train=Xmatrix[mask]\n",
    "Xmatrix_test=Xmatrix[~mask]\n",
    "Yresp_train=Yresp[mask]\n",
    "Yresp_test=Yresp[~mask]"
   ]
  },
  {
   "cell_type": "code",
   "execution_count": 180,
   "metadata": {
    "collapsed": false
   },
   "outputs": [
    {
     "name": "stdout",
     "output_type": "stream",
     "text": [
      "BEST {'C': 1.0} 0.610535661438 [mean: 0.58081, std: 0.05072, params: {'C': 0.001}, mean: 0.59193, std: 0.08620, params: {'C': 0.01}, mean: 0.59329, std: 0.05580, params: {'C': 0.1}, mean: 0.61054, std: 0.00925, params: {'C': 1.0}, mean: 0.54839, std: 0.07411, params: {'C': 10.0}, mean: 0.49732, std: 0.04691, params: {'C': 100.0}]\n"
     ]
    }
   ],
   "source": [
    "from sklearn.grid_search import GridSearchCV\n",
    "gs=GridSearchCV(clfsvm_lin, param_grid={'C':Cs}, cv=5)\n",
    "gs.fit(Xmatrix_train, Yresp_train)\n",
    "print \"BEST\", gs.best_params_, gs.best_score_, gs.grid_scores_"
   ]
  },
  {
   "cell_type": "code",
   "execution_count": 181,
   "metadata": {
    "collapsed": false
   },
   "outputs": [
    {
     "data": {
      "text/plain": [
       "0.62020321594160011"
      ]
     },
     "execution_count": 181,
     "metadata": {},
     "output_type": "execute_result"
    }
   ],
   "source": [
    "best = gs.best_estimator_\n",
    "best.fit(Xmatrix_train, Yresp_train)\n",
    "best.score(Xmatrix_test, Yresp_test)"
   ]
  },
  {
   "cell_type": "code",
   "execution_count": 187,
   "metadata": {
    "collapsed": false
   },
   "outputs": [
    {
     "name": "stdout",
     "output_type": "stream",
     "text": [
      "BEST {'C': 1.0} 0.599416564495 [mean: 0.59870, std: 0.00005, params: {'C': 0.001}, mean: 0.59870, std: 0.00005, params: {'C': 0.01}, mean: 0.59870, std: 0.00005, params: {'C': 0.1}, mean: 0.59942, std: 0.00175, params: {'C': 1.0}, mean: 0.59646, std: 0.00266, params: {'C': 10.0}, mean: 0.59646, std: 0.00238, params: {'C': 100.0}]\n"
     ]
    }
   ],
   "source": [
    "clfsvm_orig = SVC()\n",
    "gs_orig = GridSearchCV(clfsvm_orig, param_grid={'C':Cs}, cv=5)\n",
    "gs_orig.fit(Xmatrix_train, Yresp_train)\n",
    "print \"BEST\", gs_orig.best_params_, gs_orig.best_score_, gs_orig.grid_scores_"
   ]
  },
  {
   "cell_type": "code",
   "execution_count": 188,
   "metadata": {
    "collapsed": false
   },
   "outputs": [
    {
     "data": {
      "text/plain": [
       "0.58932623064022882"
      ]
     },
     "execution_count": 188,
     "metadata": {},
     "output_type": "execute_result"
    }
   ],
   "source": [
    "best_orig = gs_orig.best_estimator_\n",
    "best_orig.fit(Xmatrix_train, Yresp_train)\n",
    "best_orig.score(Xmatrix_test, Yresp_test)"
   ]
  },
  {
   "cell_type": "code",
   "execution_count": 220,
   "metadata": {
    "collapsed": true
   },
   "outputs": [],
   "source": [
    "def cv_optimize(clf, parameters, X, y, n_folds=5, score_func=None):\n",
    "    if score_func:\n",
    "        gs = GridSearchCV(clf, param_grid=parameters, cv=n_folds, scoring=score_func)\n",
    "    else:\n",
    "        gs = GridSearchCV(clf, param_grid=parameters, cv=n_folds)\n",
    "    gs.fit(X, y)\n",
    "    print \"BEST\", gs.best_params_, gs.best_score_, gs.grid_scores_\n",
    "    best = gs.best_estimator_\n",
    "    return best"
   ]
  },
  {
   "cell_type": "code",
   "execution_count": 221,
   "metadata": {
    "collapsed": false
   },
   "outputs": [],
   "source": [
    "from sklearn.metrics import confusion_matrix\n",
    "def do_classify(clf, parameters, indf, featurenames, targetname, target1val, mask=None, reuse_split=None, score_func=None, n_folds=5):\n",
    "    subdf=indf[featurenames]\n",
    "    X=subdf.values\n",
    "    y=(indf[targetname].values==target1val)*1\n",
    "    if mask !=None:\n",
    "        print \"using mask\"\n",
    "        Xtrain, Xtest, ytrain, ytest = X[mask], X[~mask], y[mask], y[~mask]\n",
    "    if reuse_split !=None:\n",
    "        print \"using reuse split\"\n",
    "        Xtrain, Xtest, ytrain, ytest = reuse_split['Xtrain'], reuse_split['Xtest'], reuse_split['ytrain'], reuse_split['ytest']\n",
    "    if parameters:\n",
    "        clf = cv_optimize(clf, parameters, Xtrain, ytrain, n_folds=n_folds, score_func=score_func)\n",
    "    clf=clf.fit(Xtrain, ytrain)\n",
    "    training_accuracy = clf.score(Xtrain, ytrain)\n",
    "    test_accuracy = clf.score(Xtest, ytest)\n",
    "    print \"############# based on standard predict ################\"\n",
    "    print \"Accuracy on training data: %0.6f\" % (training_accuracy)\n",
    "    print \"Accuracy on test data:     %0.6f\" % (test_accuracy)\n",
    "    print confusion_matrix(ytest, clf.predict(Xtest))\n",
    "    print \"########################################################\"\n",
    "    return clf, Xtrain, ytrain, Xtest, ytest"
   ]
  },
  {
   "cell_type": "code",
   "execution_count": 234,
   "metadata": {
    "collapsed": false
   },
   "outputs": [],
   "source": [
    "# create prior pass pct for each team lagged by year\n",
    "def dist1(y):\n",
    "    if y < 4:\n",
    "        return 'short'\n",
    "    elif y < 8:\n",
    "        return 'medium'\n",
    "    elif y < 12:\n",
    "        return 'long'\n",
    "    else:\n",
    "        return 'super long'\n",
    "df['dist_to_1st'] = [dist1(y) for y in df.yds_to_go.values]\n",
    "df['tmdowndist_to_1st'] = [str(t) + str(d) + str(d1) for t,d,d1 in zip(df['tm'],df['down'],df['dist_to_1st'])]\n",
    "res = (df.groupby('tmdowndist_to_1st')['RESP'].mean())\n",
    "df['tm_priorPass'] = [res[t] for t in df['tmdowndist_to_1st'].values]"
   ]
  },
  {
   "cell_type": "code",
   "execution_count": 235,
   "metadata": {
    "collapsed": false,
    "scrolled": false
   },
   "outputs": [
    {
     "name": "stdout",
     "output_type": "stream",
     "text": [
      "using mask\n",
      "BEST {'C': 1} 0.669851604448 [mean: 0.59595, std: 0.00512, params: {'C': 0.001}, mean: 0.66529, std: 0.00719, params: {'C': 0.01}, mean: 0.66951, std: 0.00958, params: {'C': 0.1}, mean: 0.66985, std: 0.00946, params: {'C': 1}, mean: 0.66930, std: 0.01009, params: {'C': 10}, mean: 0.66934, std: 0.00971, params: {'C': 100}]\n",
      "############# based on standard predict ################\n",
      "Accuracy on training data: 0.670824\n",
      "Accuracy on test data:     0.669626\n",
      "[[2192 1939]\n",
      " [1410 4596]]\n",
      "########################################################\n"
     ]
    },
    {
     "name": "stderr",
     "output_type": "stream",
     "text": [
      "/Users/StevenRachesky/anaconda/lib/python2.7/site-packages/ipykernel/__main__.py:6: FutureWarning: comparison to `None` will result in an elementwise object comparison in the future.\n"
     ]
    }
   ],
   "source": [
    "from sklearn.linear_model import LogisticRegression\n",
    "clflog,_,_,_,_  = do_classify(LogisticRegression(penalty=\"l1\"), {\"C\": [0.001, 0.01, 0.1, 1, 10, 100]}, df, lcols, u'RESP', 1, mask=mask)"
   ]
  },
  {
   "cell_type": "code",
   "execution_count": null,
   "metadata": {
    "collapsed": true
   },
   "outputs": [],
   "source": [
    "def cv_optimize2(clf, parameters, X, y, n_jobs=1, n_folds=5, score_func=None):\n",
    "    if score_func:\n",
    "        gs = GridSearchCV(clf, param_grid=parameters, cv=n_folds, n_jobs=n_jobs, scoring=score_func)\n",
    "    else:\n",
    "        gs = GridSearchCV(clf, param_grid=parameters, n_jobs=n_jobs, cv=n_folds)\n",
    "    gs.fit(X, y)\n",
    "    print \"BEST\", gs.best_params_, gs.best_score_, gs.grid_scores_\n",
    "    best = gs.best_estimator_\n",
    "    return best"
   ]
  },
  {
   "cell_type": "code",
   "execution_count": null,
   "metadata": {
    "collapsed": true
   },
   "outputs": [],
   "source": [
    "def do_classify2(clf, parameters, indf, featurenames, targetname, target1val, mask=None, reuse_split=None, score_func=None, n_folds=5, n_jobs=1):\n",
    "    subdf=indf[featurenames]\n",
    "    X=subdf.values\n",
    "    y=(indf[targetname].values==target1val)*1\n",
    "    if mask !=None:\n",
    "        print \"using mask\"\n",
    "        Xtrain, Xtest, ytrain, ytest = X[mask], X[~mask], y[mask], y[~mask]\n",
    "    if reuse_split !=None:\n",
    "        print \"using reuse split\"\n",
    "        Xtrain, Xtest, ytrain, ytest = reuse_split['Xtrain'], reuse_split['Xtest'], reuse_split['ytrain'], reuse_split['ytest']\n",
    "    if parameters:\n",
    "        clf = cv_optimize2(clf, parameters, Xtrain, ytrain, n_jobs=n_jobs, n_folds=n_folds, score_func=score_func)\n",
    "    clf=clf.fit(Xtrain, ytrain)\n",
    "    training_accuracy = clf.score(Xtrain, ytrain)\n",
    "    test_accuracy = clf.score(Xtest, ytest)\n",
    "    print \"############# based on standard predict ################\"\n",
    "    print \"Accuracy on training data: %0.2f\" % (training_accuracy)\n",
    "    print \"Accuracy on test data:     %0.2f\" % (test_accuracy)\n",
    "    print confusion_matrix(ytest, clf.predict(Xtest))\n",
    "    print \"########################################################\"\n",
    "    return clf, Xtrain, ytrain, Xtest, ytest"
   ]
  },
  {
   "cell_type": "code",
   "execution_count": null,
   "metadata": {
    "collapsed": true
   },
   "outputs": [],
   "source": []
  },
  {
   "cell_type": "code",
   "execution_count": null,
   "metadata": {
    "collapsed": false
   },
   "outputs": [],
   "source": [
    "#Random forest classifier\n",
    "from sklearn.ensemble import RandomForestClassifier\n",
    "\n",
    "clfForest = RandomForestClassifier()\n",
    "\n",
    "parameters = {\"n_estimators\": range(1,100)}\n",
    "clfForest, Xtrain, ytrain, Xtest, ytest = do_classify2(clfForest, parameters, df, lcols, 'RESP', 1, mask=mask, score_func='f1', n_jobs=4) # could add njobs to the mix to run them in parallel"
   ]
  },
  {
   "cell_type": "code",
   "execution_count": 241,
   "metadata": {
    "collapsed": false
   },
   "outputs": [
    {
     "data": {
      "text/plain": [
       "[1, 2, 3, 4, 5, 6, 7, 8, 9, 10, 11, 12, 13, 14, 15, 16, 17, 18]"
      ]
     },
     "execution_count": 241,
     "metadata": {},
     "output_type": "execute_result"
    }
   ],
   "source": [
    "range(1,19)"
   ]
  },
  {
   "cell_type": "code",
   "execution_count": null,
   "metadata": {
    "collapsed": true
   },
   "outputs": [],
   "source": []
  }
 ],
 "metadata": {
  "kernelspec": {
   "display_name": "Python 2",
   "language": "python",
   "name": "python2"
  },
  "language_info": {
   "codemirror_mode": {
    "name": "ipython",
    "version": 2
   },
   "file_extension": ".py",
   "mimetype": "text/x-python",
   "name": "python",
   "nbconvert_exporter": "python",
   "pygments_lexer": "ipython2",
   "version": "2.7.10"
  }
 },
 "nbformat": 4,
 "nbformat_minor": 0
}
